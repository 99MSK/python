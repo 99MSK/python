{
 "cells": [
  {
   "cell_type": "code",
   "execution_count": 2,
   "id": "e9ae3c4f",
   "metadata": {},
   "outputs": [
    {
     "name": "stdout",
     "output_type": "stream",
     "text": [
      "0\n",
      "1\n",
      "2\n",
      "4\n",
      "5\n"
     ]
    }
   ],
   "source": [
    "# prints from 0 to 6 except 3 and 6\n",
    "for a in range(0,7):\n",
    "    if a==6 or a==3:\n",
    "        continue\n",
    "    else:\n",
    "        print(a)"
   ]
  },
  {
   "cell_type": "code",
   "execution_count": 3,
   "id": "2a34c85e",
   "metadata": {},
   "outputs": [
    {
     "name": "stdout",
     "output_type": "stream",
     "text": [
      "enter the  number:4\n",
      "10\n"
     ]
    }
   ],
   "source": [
    "#add all numbers from 1 to given number\n",
    "a=int(input('enter the  number:'))\n",
    "b=0\n",
    "for x in range(0,a+1):\n",
    "    b+=x\n",
    "print(b)    "
   ]
  },
  {
   "cell_type": "code",
   "execution_count": 4,
   "id": "11558b37",
   "metadata": {},
   "outputs": [
    {
     "name": "stdout",
     "output_type": "stream",
     "text": [
      "enter the number:5\n",
      "enter number upto it is multiplied:10\n",
      "5 * 1 = 5\n",
      "5 * 2 = 10\n",
      "5 * 3 = 15\n",
      "5 * 4 = 20\n",
      "5 * 5 = 25\n",
      "5 * 6 = 30\n",
      "5 * 7 = 35\n",
      "5 * 8 = 40\n",
      "5 * 9 = 45\n",
      "5 * 10 = 50\n"
     ]
    }
   ],
   "source": [
    "# multiplication table\n",
    "c=int(input('enter the number:'))\n",
    "d=int(input('enter number upto it is multiplied:'))\n",
    "for x in range(1,d+1):\n",
    "    print('{} * {} = {}'.format(c,x,c*x))"
   ]
  },
  {
   "cell_type": "code",
   "execution_count": 5,
   "id": "2c5f2244",
   "metadata": {},
   "outputs": [
    {
     "name": "stdout",
     "output_type": "stream",
     "text": [
      "enter the number:456773737\n",
      "9\n"
     ]
    }
   ],
   "source": [
    "# no of digits in a number\n",
    "e=int(input('enter the number:'))\n",
    "f=str(e)\n",
    "g=0\n",
    "while g<len(f):\n",
    "    g+=1\n",
    "print(g)    "
   ]
  },
  {
   "cell_type": "code",
   "execution_count": 6,
   "id": "592b435d",
   "metadata": {},
   "outputs": [
    {
     "name": "stdout",
     "output_type": "stream",
     "text": [
      "1\n",
      "2\n",
      "Fizz\n",
      "4\n",
      "Buzz\n",
      "Fizz\n",
      "7\n",
      "8\n",
      "Fizz\n",
      "Buzz\n",
      "11\n",
      "Fizz\n",
      "13\n",
      "14\n",
      "Fizz\n",
      "16\n",
      "17\n",
      "Fizz\n",
      "19\n",
      "Buzz\n",
      "Fizz\n",
      "22\n",
      "23\n",
      "Fizz\n",
      "Buzz\n",
      "26\n",
      "Fizz\n",
      "28\n",
      "29\n",
      "Fizz\n",
      "31\n",
      "32\n",
      "Fizz\n",
      "34\n",
      "Buzz\n",
      "Fizz\n",
      "37\n",
      "38\n",
      "Fizz\n",
      "Buzz\n",
      "41\n",
      "Fizz\n",
      "43\n",
      "44\n",
      "Fizz\n",
      "46\n",
      "47\n",
      "Fizz\n",
      "49\n",
      "Buzz\n",
      "Fizz\n",
      "52\n",
      "53\n",
      "Fizz\n",
      "Buzz\n",
      "56\n",
      "Fizz\n",
      "58\n",
      "59\n",
      "Fizz\n"
     ]
    }
   ],
   "source": [
    "#print buzz fizz and fizzbuzz\n",
    "for x in range(1,61):\n",
    "    if x%3==0:\n",
    "        print('Fizz')\n",
    "    elif x%5==0:\n",
    "        print('Buzz')\n",
    "    elif x%5==0 and x%3==0:\n",
    "        print('FizzBuzz')\n",
    "    else:\n",
    "        print(x)"
   ]
  },
  {
   "cell_type": "code",
   "execution_count": 7,
   "id": "84b06707",
   "metadata": {},
   "outputs": [
    {
     "name": "stdout",
     "output_type": "stream",
     "text": [
      "enter the string:innomatics123\n",
      "letters: 10\n",
      "digits: 3\n"
     ]
    }
   ],
   "source": [
    "h=input('enter the string:')\n",
    "letters=0\n",
    "digits=0\n",
    "for x in range(0,len(h)):\n",
    "    if h[x].isalpha()==True:\n",
    "        letters+=1\n",
    "    elif h[x].isdigit()==True:\n",
    "        digits+=1\n",
    "    else:\n",
    "        continue\n",
    "print('letters:',letters)\n",
    "print('digits:',digits)"
   ]
  },
  {
   "cell_type": "code",
   "execution_count": 8,
   "id": "4ba02889",
   "metadata": {},
   "outputs": [
    {
     "name": "stdout",
     "output_type": "stream",
     "text": [
      "enter the password:inno123\n",
      "invalid password\n"
     ]
    }
   ],
   "source": [
    "#password validity\n",
    "p=input('enter the password:')\n",
    "if len(p)<6 and len(p)>16:\n",
    "    print('invalid password')\n",
    "else:    \n",
    "    for x in p:\n",
    "        if x.isupper()==True and x.isalnum()==True and (x=='#' or x=='@' or x=='$'):\n",
    "            print('valid password')\n",
    "            break\n",
    "        else:\n",
    "            print('invalid password')\n",
    "            break"
   ]
  },
  {
   "cell_type": "code",
   "execution_count": 1,
   "id": "98071c5a",
   "metadata": {},
   "outputs": [
    {
     "name": "stdout",
     "output_type": "stream",
     "text": [
      "enter the string:abcdef\n",
      "fedcba\n"
     ]
    }
   ],
   "source": [
    "#reverse the string\n",
    "str=(input('enter the string:'))\n",
    "t=''\n",
    "x=1\n",
    "while x<=len(str):\n",
    "    t = t + str[-x]\n",
    "    x+=1\n",
    "print(t)"
   ]
  },
  {
   "cell_type": "code",
   "execution_count": 1,
   "id": "4fd28cb6",
   "metadata": {},
   "outputs": [
    {
     "name": "stdout",
     "output_type": "stream",
     "text": [
      "enter integer:5\n",
      "enter integer:5\n",
      "enter integer:5\n",
      "enter integer:5\n",
      "enter integer:5\n",
      "5.0\n"
     ]
    }
   ],
   "source": [
    "#average of all numbers\n",
    "itr=0\n",
    "g=0\n",
    "for x in range(0,5):\n",
    "    y=int(input(\"enter integer:\"))\n",
    "    itr+=1\n",
    "    g+=y\n",
    "avg=g/itr    \n",
    "print(avg)"
   ]
  },
  {
   "cell_type": "code",
   "execution_count": 4,
   "id": "372e2cfd",
   "metadata": {},
   "outputs": [
    {
     "name": "stdout",
     "output_type": "stream",
     "text": [
      "enter the string:innomatics123IRL\n",
      "innomaticsIRL\n"
     ]
    }
   ],
   "source": [
    "#print only alphabets in the string\n",
    "t=input('enter the string:')\n",
    "u=''\n",
    "for x in range(0,len(t)):\n",
    "    if t[x].isalpha()==True:\n",
    "        u+=t[x]\n",
    "    else:\n",
    "        continue\n",
    "        \n",
    "print(u)  "
   ]
  },
  {
   "cell_type": "code",
   "execution_count": 3,
   "id": "b69563a9",
   "metadata": {},
   "outputs": [
    {
     "data": {
      "text/plain": [
       "110"
      ]
     },
     "execution_count": 3,
     "metadata": {},
     "output_type": "execute_result"
    }
   ],
   "source": [
    "#sum of all even numbers from 0 to 10\n",
    "z=0\n",
    "for x in range(1,21):\n",
    "    if x%2==0:\n",
    "        z+=x\n",
    "z     "
   ]
  },
  {
   "cell_type": "code",
   "execution_count": 5,
   "id": "00439ad8",
   "metadata": {},
   "outputs": [
    {
     "name": "stdout",
     "output_type": "stream",
     "text": [
      "enter the number:10\n",
      "10\n",
      "9\n",
      "8\n",
      "7\n",
      "6\n",
      "5\n",
      "4\n",
      "3\n",
      "2\n",
      "1\n",
      "0\n"
     ]
    }
   ],
   "source": [
    "#print numbers from given number to 1\n",
    "num=int(input('enter the number:'))\n",
    "for x in range(0,num+1):\n",
    "    print(num)\n",
    "    num-=1"
   ]
  },
  {
   "cell_type": "code",
   "execution_count": 6,
   "id": "605f1a5e",
   "metadata": {},
   "outputs": [
    {
     "name": "stdout",
     "output_type": "stream",
     "text": [
      "enter 1st num:2\n",
      "enter operator:+\n",
      "enter 2nd  num:3\n",
      "5\n",
      "press c to stop if not type anything:d\n",
      "enter 1st num:5\n",
      "enter operator:*\n",
      "enter 2nd  num:6\n",
      "invalid operator\n",
      "press c to stop if not type anything:c\n"
     ]
    }
   ],
   "source": [
    "#dynamic calculator\n",
    "while True:    \n",
    "    num1=int(input('enter 1st num:'))\n",
    "    op = input('enter operator:')\n",
    "    num2=int(input('enter 2nd  num:'))\n",
    "    if op=='+':\n",
    "        print(num1+num2)\n",
    "    elif op==\"-\":\n",
    "        print(num1-num2)\n",
    "    elif op=='I*':\n",
    "        print(num1*num2)\n",
    "    elif op=='/':\n",
    "        print(num1/num2)\n",
    "    elif op=='**':\n",
    "        print(num1**num2)\n",
    "    else:\n",
    "        print('invalid operator')\n",
    "    inp=input('press c to stop if not type anything:')\n",
    "    if inp=='c':\n",
    "        break\n",
    "    else:\n",
    "        continue"
   ]
  },
  {
   "cell_type": "code",
   "execution_count": 1,
   "id": "cb7e3f1c",
   "metadata": {},
   "outputs": [
    {
     "name": "stdout",
     "output_type": "stream",
     "text": [
      "type integer and to stop press q:1\n",
      "type integer and to stop press q:2\n",
      "type integer and to stop press q:3\n",
      "type integer and to stop press q:4\n",
      "type integer and to stop press q:q\n",
      "average: 2.5\n",
      "product: 24\n"
     ]
    }
   ],
   "source": [
    "#takes integers from user until press q to stop. find average and product of those numbers\n",
    "s=0\n",
    "t=1\n",
    "u=0\n",
    "while True:\n",
    "    r=input('type integer and to stop press q:')\n",
    "    if str(r)=='q':\n",
    "        break\n",
    "    else:\n",
    "        u+=1\n",
    "        s+=int(r)\n",
    "        t*=int(r) \n",
    "print('average:',s/u)\n",
    "print('product:',t)"
   ]
  },
  {
   "cell_type": "code",
   "execution_count": null,
   "id": "7e17b8b8",
   "metadata": {},
   "outputs": [],
   "source": []
  },
  {
   "cell_type": "code",
   "execution_count": null,
   "id": "4fa7fefe",
   "metadata": {},
   "outputs": [],
   "source": []
  }
 ],
 "metadata": {
  "kernelspec": {
   "display_name": "Python 3 (ipykernel)",
   "language": "python",
   "name": "python3"
  },
  "language_info": {
   "codemirror_mode": {
    "name": "ipython",
    "version": 3
   },
   "file_extension": ".py",
   "mimetype": "text/x-python",
   "name": "python",
   "nbconvert_exporter": "python",
   "pygments_lexer": "ipython3",
   "version": "3.10.9"
  }
 },
 "nbformat": 4,
 "nbformat_minor": 5
}
