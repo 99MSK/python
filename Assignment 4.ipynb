{
 "cells": [
  {
   "cell_type": "code",
   "execution_count": 1,
   "id": "b9823205",
   "metadata": {},
   "outputs": [
    {
     "name": "stdout",
     "output_type": "stream",
     "text": [
      "1\n",
      "2\n",
      "3\n",
      "4\n",
      "5\n",
      "6\n"
     ]
    }
   ],
   "source": [
    "#loop through all the elements in a list\n",
    "a=[1,2,3,4,5,6]\n",
    "for x in a:\n",
    "    print(x)"
   ]
  },
  {
   "cell_type": "code",
   "execution_count": 3,
   "id": "6e33a266",
   "metadata": {},
   "outputs": [
    {
     "name": "stdout",
     "output_type": "stream",
     "text": [
      "enter element in the list and to stop press p:hi\n",
      "enter type of the element:string\n",
      "enter element in the list and to stop press p:123\n",
      "enter type of the element:int\n",
      "enter element in the list and to stop press p:5.6\n",
      "enter type of the element:float\n",
      "enter element in the list and to stop press p:7+8j\n",
      "enter type of the element:complex\n",
      "enter element in the list and to stop press p:p\n"
     ]
    },
    {
     "data": {
      "text/plain": [
       "['hi', 123, 5.6, (7+8j)]"
      ]
     },
     "execution_count": 3,
     "metadata": {},
     "output_type": "execute_result"
    }
   ],
   "source": [
    "#ask the users to insert elements in a list\n",
    "x=[]\n",
    "while True:\n",
    "    y=input('enter element in the list and to stop press p:')\n",
    "    if y=='p':\n",
    "        break\n",
    "    else:    \n",
    "        z=input('enter type of the element:')\n",
    "        if z=='int':\n",
    "            x.append(int(y))\n",
    "        elif z=='float':\n",
    "            x.append(float(y))\n",
    "        elif z=='complex':\n",
    "            x.append(complex(y))\n",
    "        else:\n",
    "            x.append(y)\n",
    "x            "
   ]
  },
  {
   "cell_type": "code",
   "execution_count": 4,
   "id": "c568f193",
   "metadata": {},
   "outputs": [
    {
     "data": {
      "text/plain": [
       "[1, 3, 5, 7]"
      ]
     },
     "execution_count": 4,
     "metadata": {},
     "output_type": "execute_result"
    }
   ],
   "source": [
    "#remove all the odd index value from a list and only even \n",
    "#index elements should remain\n",
    "x=[1,2,3,4,5,6,7,'a']\n",
    "y=[]\n",
    "for x in range(0,len(x)):\n",
    "    if x%2!=0:\n",
    "        y.append(x)\n",
    "y        "
   ]
  },
  {
   "cell_type": "code",
   "execution_count": 5,
   "id": "aaf22417",
   "metadata": {},
   "outputs": [
    {
     "name": "stdout",
     "output_type": "stream",
     "text": [
      "15\n",
      "120\n"
     ]
    }
   ],
   "source": [
    "#sum and multiply all the items in a list\n",
    "p=0\n",
    "q=1\n",
    "r=[1,2,3,4,5]\n",
    "for x in r:\n",
    "    p+=x\n",
    "    q*=x\n",
    "print(p)\n",
    "print(q)"
   ]
  },
  {
   "cell_type": "code",
   "execution_count": 6,
   "id": "ddecace3",
   "metadata": {},
   "outputs": [
    {
     "name": "stdout",
     "output_type": "stream",
     "text": [
      "90\n",
      "4\n"
     ]
    }
   ],
   "source": [
    "#find minimum and maximum\n",
    "a=[8,4,11,7,90]\n",
    "maxi=0\n",
    "mimi=0\n",
    "for x in a:\n",
    "    if x>maxi:\n",
    "        maxi=x\n",
    "mini=maxi\n",
    "for x in a:\n",
    "    if x<mini:\n",
    "        mini=x\n",
    "print(maxi)\n",
    "print(mini)"
   ]
  },
  {
   "cell_type": "code",
   "execution_count": 7,
   "id": "49253382",
   "metadata": {},
   "outputs": [
    {
     "data": {
      "text/plain": [
       "['Green', 'White', 'Black']"
      ]
     },
     "execution_count": 7,
     "metadata": {},
     "output_type": "execute_result"
    }
   ],
   "source": [
    "# specified list after removing the 0th, 4th and 5th elements\n",
    "e=['Red', 'Green', 'White', 'Black', 'Pink', 'Yellow']\n",
    "f=[]\n",
    "for x in range(0,len(e)):\n",
    "    if x!=0 and x!=4 and x!=5:\n",
    "        f.append(e[x])\n",
    "    else:\n",
    "        continue\n",
    "f        "
   ]
  },
  {
   "cell_type": "code",
   "execution_count": 8,
   "id": "dabccc36",
   "metadata": {},
   "outputs": [
    {
     "name": "stdout",
     "output_type": "stream",
     "text": [
      "enter number of characters:5\n",
      "enter characters:a\n",
      "enter characters:s\n",
      "enter characters:d\n",
      "enter characters:f\n",
      "enter characters:g\n",
      "['a', 's', 'd', 'f', 'g']\n",
      "asdfg\n"
     ]
    }
   ],
   "source": [
    "# convert a list of characters into a string\n",
    "m=int(input('enter number of characters:'))\n",
    "o=[]\n",
    "p=''\n",
    "for x in range(0,m):\n",
    "    n=input('enter characters:')\n",
    "    o.append(n)\n",
    "for x in o:\n",
    "    p+=x\n",
    "print(o)\n",
    "print(p)"
   ]
  },
  {
   "cell_type": "code",
   "execution_count": 9,
   "id": "2a16f128",
   "metadata": {},
   "outputs": [
    {
     "name": "stdout",
     "output_type": "stream",
     "text": [
      "enter number of elements to enter:5\n",
      "enter elements:1\n",
      "enter elements:2\n",
      "enter elements:3\n",
      "enter elements:4\n",
      "enter elements:5\n",
      "[1, 2, 3, 4, 5]\n"
     ]
    },
    {
     "data": {
      "text/plain": [
       "3.0"
      ]
     },
     "execution_count": 9,
     "metadata": {},
     "output_type": "execute_result"
    }
   ],
   "source": [
    "#average of elements in list\n",
    "d=int(input('enter number of elements to enter:'))\n",
    "e=[]\n",
    "g=0\n",
    "itr=0\n",
    "for x in range(0,d):\n",
    "    f=int(input('enter elements:'))\n",
    "    e.append(f)\n",
    "print(e)   \n",
    "for x in e:\n",
    "    itr+=1\n",
    "    g+=x\n",
    "avg=g/itr\n",
    "avg"
   ]
  },
  {
   "cell_type": "code",
   "execution_count": 10,
   "id": "27e2e9d0",
   "metadata": {},
   "outputs": [
    {
     "name": "stdout",
     "output_type": "stream",
     "text": [
      "number of integers are: 5\n"
     ]
    }
   ],
   "source": [
    "#number of integers i n list\n",
    "k= [10, 'a',2,3,5.5,1.34,'Abc','rt']\n",
    "l=0\n",
    "for x in k:\n",
    "    if type(x)== int or type(x)==float:\n",
    "        l+=1\n",
    "print('number of integers are:',l)       "
   ]
  },
  {
   "cell_type": "code",
   "execution_count": 1,
   "id": "b7ae2b59",
   "metadata": {},
   "outputs": [
    {
     "name": "stdout",
     "output_type": "stream",
     "text": [
      "enter number of characters in list:4\n",
      "enter charactersw\n",
      "enter characterse\n",
      "enter charactersr\n",
      "enter characterst\n",
      "['w', 'e', 'r', 't']\n",
      "['t', 'r', 'e', 'w']\n"
     ]
    }
   ],
   "source": [
    "#reverse list\n",
    "m=[]\n",
    "p=[]\n",
    "n=int(input('enter number of characters in list:'))\n",
    "for x in range(0,n):\n",
    "    o=input('enter characters')\n",
    "    m.append(o)\n",
    "print(m)\n",
    "p = m[::-1]\n",
    "print(p)"
   ]
  },
  {
   "cell_type": "code",
   "execution_count": 2,
   "id": "ed9405c9",
   "metadata": {},
   "outputs": [
    {
     "data": {
      "text/plain": [
       "('p', 'y', 't', 'h', 'o', 'n', '3', '.', '2')"
      ]
     },
     "execution_count": 2,
     "metadata": {},
     "output_type": "execute_result"
    }
   ],
   "source": [
    "#convert a given string to a tuple\n",
    "q='python3.2'\n",
    "r=[]\n",
    "for x in q:\n",
    "    r.append(x)\n",
    "s=tuple(r)\n",
    "s"
   ]
  },
  {
   "cell_type": "code",
   "execution_count": null,
   "id": "d3ec7476",
   "metadata": {},
   "outputs": [],
   "source": []
  }
 ],
 "metadata": {
  "kernelspec": {
   "display_name": "Python 3 (ipykernel)",
   "language": "python",
   "name": "python3"
  },
  "language_info": {
   "codemirror_mode": {
    "name": "ipython",
    "version": 3
   },
   "file_extension": ".py",
   "mimetype": "text/x-python",
   "name": "python",
   "nbconvert_exporter": "python",
   "pygments_lexer": "ipython3",
   "version": "3.10.9"
  }
 },
 "nbformat": 4,
 "nbformat_minor": 5
}
