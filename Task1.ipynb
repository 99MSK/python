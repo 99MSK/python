{
 "cells": [
  {
   "cell_type": "code",
   "execution_count": 1,
   "id": "babb7199",
   "metadata": {},
   "outputs": [
    {
     "name": "stdout",
     "output_type": "stream",
     "text": [
      "enter a srting: SK\n"
     ]
    },
    {
     "data": {
      "text/plain": [
       "'sk'"
      ]
     },
     "execution_count": 1,
     "metadata": {},
     "output_type": "execute_result"
    }
   ],
   "source": [
    "#write a python program to convert a string to lower case\n",
    "v=input('enter a srting: ')\n",
    "v.lower()"
   ]
  },
  {
   "cell_type": "code",
   "execution_count": 4,
   "id": "c46ed53a",
   "metadata": {},
   "outputs": [
    {
     "name": "stdout",
     "output_type": "stream",
     "text": [
      "enter a string: ABCDEFGH\n"
     ]
    },
    {
     "data": {
      "text/plain": [
       "'AbCdEfGh'"
      ]
     },
     "execution_count": 4,
     "metadata": {},
     "output_type": "execute_result"
    }
   ],
   "source": [
    "#write a python program to convert only odd indexed characters to lower case\n",
    "v1=input('enter a string: ')\n",
    "v2=''\n",
    "a=0\n",
    "while a<len(v1):\n",
    "    if a%2==0:\n",
    "        v2 = v2+ v1[a]\n",
    "    else:\n",
    "        v2 = v2+ v1[a].lower()\n",
    "    a+=1  \n",
    "v2      "
   ]
  },
  {
   "cell_type": "code",
   "execution_count": 6,
   "id": "d0c09606",
   "metadata": {},
   "outputs": [
    {
     "name": "stdout",
     "output_type": "stream",
     "text": [
      "enter a string:ABCDEFGH\n"
     ]
    },
    {
     "data": {
      "text/plain": [
       "'aBcDeFgH'"
      ]
     },
     "execution_count": 6,
     "metadata": {},
     "output_type": "execute_result"
    }
   ],
   "source": [
    "#Write a python program to convert only even indexed characters to lower case\n",
    "v3= input('enter a string:')\n",
    "v4=''\n",
    "for b in range(0,len(v3)):\n",
    "    if b%2!=0:\n",
    "        v4=v4+v3[b]\n",
    "    else:\n",
    "        v4=v4+v3[b].lower()\n",
    "    b+=1    \n",
    "v4   "
   ]
  },
  {
   "cell_type": "code",
   "execution_count": 2,
   "id": "9eeda038",
   "metadata": {},
   "outputs": [
    {
     "name": "stdout",
     "output_type": "stream",
     "text": [
      "enter a string:abcdefgh\n"
     ]
    },
    {
     "data": {
      "text/plain": [
       "'aBcDeFgH'"
      ]
     },
     "execution_count": 2,
     "metadata": {},
     "output_type": "execute_result"
    }
   ],
   "source": [
    "#odd indexed to upper\n",
    "v5=input('enter a string:')\n",
    "v6=''\n",
    "c=0\n",
    "while c<len(v5):\n",
    "    if c%2==0:\n",
    "        v6=v6+v5[c]\n",
    "    else:\n",
    "        v6=v6+v5[c].upper()\n",
    "    c+=1  \n",
    "v6 "
   ]
  },
  {
   "cell_type": "code",
   "execution_count": 4,
   "id": "56c43c1d",
   "metadata": {},
   "outputs": [
    {
     "name": "stdout",
     "output_type": "stream",
     "text": [
      "enter a string:abcdefgh\n"
     ]
    },
    {
     "data": {
      "text/plain": [
       "'AbCdEfGh'"
      ]
     },
     "execution_count": 4,
     "metadata": {},
     "output_type": "execute_result"
    }
   ],
   "source": [
    "#even indexed to upper\n",
    "v7= input('enter a string:')\n",
    "v8=''\n",
    "d=0\n",
    "while d<len(v7):\n",
    "    if d%2!=0:\n",
    "        v8= v8+ v7[d]\n",
    "    else:\n",
    "        v8=v8+v7[d].upper()\n",
    "    d+=1    \n",
    "v8   "
   ]
  },
  {
   "cell_type": "code",
   "execution_count": 5,
   "id": "a62eab9b",
   "metadata": {},
   "outputs": [
    {
     "name": "stdout",
     "output_type": "stream",
     "text": [
      "enter your name:surya\n",
      "enter age:23\n",
      "enter your gender:M\n",
      "enter your mobile number:9876543210\n",
      "enter fathers name:shiva\n",
      "enter mothers name:\n",
      "My name is surya\n",
      " My gender is M\n",
      "My age is 23\n",
      "My phone number is 9876543210\n",
      "My fathers name is shiva\n",
      "My mothers name is \n"
     ]
    }
   ],
   "source": [
    "#biodata\n",
    "name=input('enter your name:')\n",
    "age=int(input('enter age:'))\n",
    "gender=input('enter your gender:')\n",
    "phone_no=int(input('enter your mobile number:'))\n",
    "fathers_name=input('enter fathers name:')\n",
    "mothers_name=input('enter mothers name:')\n",
    "bio_data='My name is {}\\n My gender is {}\\nMy age is {}\\nMy phone number is {}\\nMy fathers name is {}\\nMy mothers name is {}'\n",
    "print(bio_data.format(name,gender,age,phone_no,fathers_name,mothers_name))"
   ]
  },
  {
   "cell_type": "code",
   "execution_count": 6,
   "id": "98246d68",
   "metadata": {},
   "outputs": [
    {
     "name": "stdout",
     "output_type": "stream",
     "text": [
      "enter a string:a@b@c@d\n"
     ]
    },
    {
     "data": {
      "text/plain": [
       "3"
      ]
     },
     "execution_count": 6,
     "metadata": {},
     "output_type": "execute_result"
    }
   ],
   "source": [
    "#how many @ times\n",
    "count=input('enter a string:')\n",
    "count.count('@')"
   ]
  },
  {
   "cell_type": "code",
   "execution_count": 2,
   "id": "22518884",
   "metadata": {},
   "outputs": [
    {
     "name": "stdout",
     "output_type": "stream",
     "text": [
      "name1,name2,name3\n"
     ]
    }
   ],
   "source": [
    "#only names\n",
    "name_string='name1.@gmail.com,name2.@gmail.com,name3.@gmail.com'\n",
    "new_str=name_string.split('.@gmail.com')\n",
    "new_str.pop()\n",
    "a=''\n",
    "for x in range(0,len(new_str)):\n",
    "    a=a+new_str[x]\n",
    "print(s)    "
   ]
  },
  {
   "cell_type": "code",
   "execution_count": 5,
   "id": "4245c3fe",
   "metadata": {},
   "outputs": [
    {
     "name": "stdout",
     "output_type": "stream",
     "text": [
      "enter a string:ABCDEFG\n",
      "CDE\n"
     ]
    }
   ],
   "source": [
    "#print middle characters\n",
    "x=input('enter a string:')\n",
    "a=len(x)//2\n",
    "print(x[a-1:a+2])"
   ]
  },
  {
   "cell_type": "code",
   "execution_count": 6,
   "id": "1cff46f0",
   "metadata": {},
   "outputs": [
    {
     "name": "stdout",
     "output_type": "stream",
     "text": [
      "enter string:ABCEFG\n",
      "enter other str:D\n",
      "ABCDEFG\n"
     ]
    }
   ],
   "source": [
    "#print a string middle of other string\n",
    "a=input('enter string:')\n",
    "b=input('enter other str:')\n",
    "c=len(a)//2\n",
    "print(a[0:c]+b+a[c:])"
   ]
  },
  {
   "cell_type": "code",
   "execution_count": 7,
   "id": "7abe6336",
   "metadata": {},
   "outputs": [
    {
     "data": {
      "text/plain": [
       "'bcdfghjklmnpqrstvwxyz'"
      ]
     },
     "execution_count": 7,
     "metadata": {},
     "output_type": "execute_result"
    }
   ],
   "source": [
    "# remove vowels\n",
    "A='abcdefghijklmnopqrstuvwxyz'\n",
    "B=''\n",
    "for x in A:\n",
    "    if x=='a' or x=='e' or x=='i' or x=='o' or x=='u':\n",
    "        B=B+''\n",
    "    else:\n",
    "        B=B+x\n",
    "B"
   ]
  },
  {
   "cell_type": "code",
   "execution_count": null,
   "id": "25251f6b",
   "metadata": {},
   "outputs": [],
   "source": []
  }
 ],
 "metadata": {
  "kernelspec": {
   "display_name": "Python 3 (ipykernel)",
   "language": "python",
   "name": "python3"
  },
  "language_info": {
   "codemirror_mode": {
    "name": "ipython",
    "version": 3
   },
   "file_extension": ".py",
   "mimetype": "text/x-python",
   "name": "python",
   "nbconvert_exporter": "python",
   "pygments_lexer": "ipython3",
   "version": "3.10.9"
  }
 },
 "nbformat": 4,
 "nbformat_minor": 5
}
