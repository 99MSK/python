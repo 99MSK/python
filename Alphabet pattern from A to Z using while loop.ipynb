{
 "cells": [
  {
   "cell_type": "code",
   "execution_count": 1,
   "id": "9e06c844",
   "metadata": {},
   "outputs": [
    {
     "name": "stdout",
     "output_type": "stream",
     "text": [
      "  *  \n",
      "*   *\n",
      "* * *\n",
      "*   *\n",
      "*   *\n"
     ]
    }
   ],
   "source": [
    "x=0\n",
    "while x<9:\n",
    "    if x==0:\n",
    "        print(\"  *  \")\n",
    "    elif x==1 or x==3 or x==4:\n",
    "        print(\"*   *\")\n",
    "    else:\n",
    "        print(\"* * *\")\n",
    "    x=x+1    "
   ]
  },
  {
   "cell_type": "code",
   "execution_count": 8,
   "id": "bc578cfd",
   "metadata": {},
   "outputs": [
    {
     "name": "stdout",
     "output_type": "stream",
     "text": [
      "***** \n",
      "*    *\n",
      "*    *\n",
      "***** \n",
      "*    *\n",
      "*    *\n",
      "***** \n"
     ]
    }
   ],
   "source": [
    "x=0\n",
    "while x<7:\n",
    "    if x==0 or x==3 or x==6:\n",
    "        print(\"***** \")\n",
    "    else:\n",
    "        print(\"*    *\")\n",
    "    x=x+1    "
   ]
  },
  {
   "cell_type": "code",
   "execution_count": 2,
   "id": "8d0bf612",
   "metadata": {},
   "outputs": [
    {
     "name": "stdout",
     "output_type": "stream",
     "text": [
      " ****\n",
      "*   \n",
      "*   \n",
      "*   \n",
      " ****\n"
     ]
    }
   ],
   "source": [
    "x=0\n",
    "while x<5:\n",
    "    if x==0 or x==4:\n",
    "        print(\" ****\")\n",
    "    else:\n",
    "        print(\"*   \")\n",
    "    x=x+1    "
   ]
  },
  {
   "cell_type": "code",
   "execution_count": 10,
   "id": "f4e51ab5",
   "metadata": {},
   "outputs": [
    {
     "name": "stdout",
     "output_type": "stream",
     "text": [
      "****  \n",
      "*   * \n",
      "*    *\n",
      "*    *\n",
      "*   * \n",
      "****  \n"
     ]
    }
   ],
   "source": [
    "x=0\n",
    "while x<6:\n",
    "    if x==0 or x==5:\n",
    "        print(\"****  \")\n",
    "    elif x==1 or x==4:\n",
    "        print(\"*   * \")\n",
    "    else:\n",
    "        print(\"*    *\")\n",
    "    x=x+1    "
   ]
  },
  {
   "cell_type": "code",
   "execution_count": 12,
   "id": "fb9185ba",
   "metadata": {},
   "outputs": [
    {
     "name": "stdout",
     "output_type": "stream",
     "text": [
      "******\n",
      "*     \n",
      "*     \n",
      "******\n",
      "*     \n",
      "*     \n",
      "******\n"
     ]
    }
   ],
   "source": [
    "x=0\n",
    "while x<7:\n",
    "    if x==0 or x==3 or x==6:\n",
    "        print(\"******\")\n",
    "    else: \n",
    "        print(\"*     \")\n",
    "    x=x+1    "
   ]
  },
  {
   "cell_type": "code",
   "execution_count": 13,
   "id": "d473a799",
   "metadata": {},
   "outputs": [
    {
     "name": "stdout",
     "output_type": "stream",
     "text": [
      "******\n",
      "*     \n",
      "*     \n",
      "******\n",
      "*     \n",
      "*     \n",
      "*     \n"
     ]
    }
   ],
   "source": [
    "x=0\n",
    "while x<7:\n",
    "    if x==0 or x==3:\n",
    "        print(\"******\")\n",
    "    else: \n",
    "        print(\"*     \")\n",
    "    x=x+1    "
   ]
  },
  {
   "cell_type": "code",
   "execution_count": 15,
   "id": "563b238f",
   "metadata": {},
   "outputs": [
    {
     "name": "stdout",
     "output_type": "stream",
     "text": [
      " *****\n",
      "*     \n",
      "* ****\n",
      "*  * *\n",
      "*  * *\n",
      " *** *\n"
     ]
    }
   ],
   "source": [
    "x=0\n",
    "while x<6:\n",
    "    if x==0:\n",
    "        print(\" *****\")\n",
    "    elif x==1:\n",
    "        print(\"*     \")\n",
    "    elif x==2:\n",
    "        print(\"* ****\")\n",
    "    elif x==5:\n",
    "        print(\" *** *\")\n",
    "    else:\n",
    "        print(\"*  * *\")\n",
    "    x=x+1    "
   ]
  },
  {
   "cell_type": "code",
   "execution_count": 17,
   "id": "9b696e4b",
   "metadata": {},
   "outputs": [
    {
     "name": "stdout",
     "output_type": "stream",
     "text": [
      "*    *\n",
      "*    *\n",
      "*    *\n",
      "******\n",
      "*    *\n",
      "*    *\n",
      "*    *\n"
     ]
    }
   ],
   "source": [
    "x=0\n",
    "while x<7:\n",
    "    if x==3:\n",
    "        print(\"******\")\n",
    "    else:\n",
    "        print(\"*    *\")\n",
    "    x=x+1    "
   ]
  },
  {
   "cell_type": "code",
   "execution_count": 18,
   "id": "22897daf",
   "metadata": {},
   "outputs": [
    {
     "name": "stdout",
     "output_type": "stream",
     "text": [
      "*******\n",
      "   *   \n",
      "   *   \n",
      "   *   \n",
      "   *   \n",
      "   *   \n",
      "*******\n"
     ]
    }
   ],
   "source": [
    "x=0\n",
    "while x<7:\n",
    "    if x==0 or x==6:\n",
    "        print(\"*******\")\n",
    "    else:\n",
    "        print(\"   *   \")\n",
    "    x=x+1    "
   ]
  },
  {
   "cell_type": "code",
   "execution_count": 19,
   "id": "95fe8c76",
   "metadata": {},
   "outputs": [
    {
     "name": "stdout",
     "output_type": "stream",
     "text": [
      "*******\n",
      "   *   \n",
      "   *   \n",
      "   *   \n",
      "*  *    \n",
      "*  *    \n",
      " **    \n"
     ]
    }
   ],
   "source": [
    "x=0\n",
    "while x<7:\n",
    "    if x==0:\n",
    "        print(\"*******\")\n",
    "    elif x==6:\n",
    "        print(\" **    \")\n",
    "    elif x==4 or x==5:\n",
    "        print(\"*  *    \")\n",
    "    else:\n",
    "        print(\"   *   \")\n",
    "    x=x+1    "
   ]
  },
  {
   "cell_type": "code",
   "execution_count": 5,
   "id": "7f03bcce",
   "metadata": {},
   "outputs": [
    {
     "name": "stdout",
     "output_type": "stream",
     "text": [
      "*   *\n",
      "* * \n",
      "**  \n",
      "*   \n",
      "**  \n",
      "* * \n",
      "*   *\n"
     ]
    }
   ],
   "source": [
    "x=0\n",
    "while x<7:\n",
    "    if x==3:\n",
    "        print(\"*   \")\n",
    "    elif x==2 or x==4:\n",
    "        print(\"**  \")\n",
    "    elif x==1 or x==5:\n",
    "        print(\"* * \")\n",
    "    else:\n",
    "        print(\"*   *\")\n",
    "    x=x+1    "
   ]
  },
  {
   "cell_type": "code",
   "execution_count": 6,
   "id": "4f770140",
   "metadata": {},
   "outputs": [
    {
     "name": "stdout",
     "output_type": "stream",
     "text": [
      "*      \n",
      "*      \n",
      "*      \n",
      "*      \n",
      "*      \n",
      "*******\n"
     ]
    }
   ],
   "source": [
    "x=0\n",
    "while x<6:\n",
    "    if x==0 or x==1 or x==2 or x==3 or x==4:\n",
    "        print(\"*      \")\n",
    "    else:\n",
    "        print(\"*******\")\n",
    "    x=x+1    "
   ]
  },
  {
   "cell_type": "code",
   "execution_count": 3,
   "id": "10fda9cc",
   "metadata": {},
   "outputs": [
    {
     "name": "stdout",
     "output_type": "stream",
     "text": [
      "*           *\n",
      "**         **\n",
      "* *       * *\n",
      "*  *     *  *\n",
      "*   *   *   *\n",
      "*    * *    *\n",
      "*     *     *\n"
     ]
    }
   ],
   "source": [
    "x=0\n",
    "while x<7:\n",
    "    if x==0:\n",
    "        print(\"*           *\")\n",
    "    elif x==1:\n",
    "        print(\"**         **\")\n",
    "    elif x==2:\n",
    "        print(\"* *       * *\")\n",
    "    elif x==3:\n",
    "        print(\"*  *     *  *\") \n",
    "    elif x==4:\n",
    "        print(\"*   *   *   *\")\n",
    "    elif x==5:\n",
    "        print(\"*    * *    *\")\n",
    "    else:\n",
    "        print(\"*     *     *\")\n",
    "    x=x+1    "
   ]
  },
  {
   "cell_type": "code",
   "execution_count": 7,
   "id": "31ac23f8",
   "metadata": {},
   "outputs": [
    {
     "name": "stdout",
     "output_type": "stream",
     "text": [
      "*       *\n",
      "**      *\n",
      "* *     *\n",
      "*  *    *\n",
      "*   *   *\n",
      "*    *  *\n",
      "*     * *\n",
      "*      **\n",
      "*       *\n"
     ]
    }
   ],
   "source": [
    "x=0\n",
    "while x<9:\n",
    "    if x==0:\n",
    "        print(\"*       *\")\n",
    "    elif x==1:\n",
    "        print(\"**      *\")\n",
    "    elif x==2:\n",
    "        print(\"* *     *\")\n",
    "    elif x==3:\n",
    "        print(\"*  *    *\") \n",
    "    elif x==4:\n",
    "        print(\"*   *   *\")\n",
    "    elif x==5:\n",
    "        print(\"*    *  *\")\n",
    "    elif x==6:\n",
    "        print(\"*     * *\")\n",
    "    elif x==7:\n",
    "        print(\"*      **\")\n",
    "    elif x==8: \n",
    "        print(\"*       *\")\n",
    "    x=x+1    "
   ]
  },
  {
   "cell_type": "code",
   "execution_count": 8,
   "id": "e7f7ab2e",
   "metadata": {},
   "outputs": [
    {
     "name": "stdout",
     "output_type": "stream",
     "text": [
      " ****** \n",
      "*      *\n",
      "*      *\n",
      "*      *\n",
      "*      *\n",
      " ****** \n"
     ]
    }
   ],
   "source": [
    "x=0\n",
    "while x<6:\n",
    "    if x==1 or x==2 or x==3 or x==4:\n",
    "        print(\"*      *\")\n",
    "    else:\n",
    "        print(\" ****** \")\n",
    "    x=x+1"
   ]
  },
  {
   "cell_type": "code",
   "execution_count": 9,
   "id": "b218e55e",
   "metadata": {},
   "outputs": [
    {
     "name": "stdout",
     "output_type": "stream",
     "text": [
      "******\n",
      "*     *\n",
      "*     *\n",
      "*     *\n",
      "******\n",
      "*      \n",
      "*      \n",
      "*      \n",
      "*      \n"
     ]
    }
   ],
   "source": [
    "x=0\n",
    "while x<9:\n",
    "    if x==0 or x==4:\n",
    "        print(\"******\")\n",
    "    elif x==1 or x==2 or x==3:\n",
    "        print(\"*     *\")\n",
    "    else:\n",
    "        print(\"*      \")\n",
    "    x=x+1    "
   ]
  },
  {
   "cell_type": "code",
   "execution_count": 11,
   "id": "a90f8dcd",
   "metadata": {},
   "outputs": [
    {
     "name": "stdout",
     "output_type": "stream",
     "text": [
      " ***** \n",
      "*     *\n",
      "*     *\n",
      "*     *\n",
      "*     *\n",
      "* *   *\n",
      "*  *  *\n",
      " *  ** ****\n"
     ]
    }
   ],
   "source": [
    "x=0\n",
    "while x<8:\n",
    "    if x==0:\n",
    "        print(\" ***** \")\n",
    "    elif x==1 or x==2 or x==3 or x==4:\n",
    "        print(\"*     *\")\n",
    "    elif x==5:\n",
    "        print(\"* *   *\")\n",
    "    elif x==6:\n",
    "        print(\"*  *  *\")\n",
    "    else: \n",
    "        print(\" *  ** ****\")\n",
    "    x=x+1    "
   ]
  },
  {
   "cell_type": "code",
   "execution_count": 12,
   "id": "0d554c60",
   "metadata": {},
   "outputs": [
    {
     "name": "stdout",
     "output_type": "stream",
     "text": [
      "******\n",
      "*     *\n",
      "*     *\n",
      "*     *\n",
      "******\n",
      "*     *\n",
      "*     *\n",
      "*     *\n",
      "*     *\n"
     ]
    }
   ],
   "source": [
    "x=0\n",
    "while x<9:\n",
    "    if x==0 or x==4:\n",
    "        print(\"******\")\n",
    "    elif x==1 or x==2 or x==3:\n",
    "        print(\"*     *\")\n",
    "    else:\n",
    "        print(\"*     *\")\n",
    "    x=x+1    "
   ]
  },
  {
   "cell_type": "code",
   "execution_count": 1,
   "id": "0d17741c",
   "metadata": {},
   "outputs": [
    {
     "name": "stdout",
     "output_type": "stream",
     "text": [
      " *****\n",
      "*     \n",
      "*     \n",
      "*     \n",
      " **** \n",
      "     *\n",
      "     *\n",
      "     *\n",
      "***** \n"
     ]
    }
   ],
   "source": [
    "x=0\n",
    "while x<9:\n",
    "    if x==0 :\n",
    "        print(\" *****\")\n",
    "    elif x==1 or x==2 or x==3:\n",
    "        print(\"*     \")\n",
    "    elif x==4:\n",
    "        print(\" **** \")\n",
    "    elif x==5 or x==6 or x==7:\n",
    "        print(\"     *\")\n",
    "    else:\n",
    "        print(\"***** \")\n",
    "    x=x+1    "
   ]
  },
  {
   "cell_type": "code",
   "execution_count": 2,
   "id": "b8c532fc",
   "metadata": {},
   "outputs": [
    {
     "name": "stdout",
     "output_type": "stream",
     "text": [
      "*******\n",
      "   *   \n",
      "   *   \n",
      "   *   \n",
      "   *   \n",
      "   *   \n",
      "   *   \n"
     ]
    }
   ],
   "source": [
    "x=0\n",
    "while x<7:\n",
    "    if x==0:\n",
    "        print(\"*******\")\n",
    "    else:\n",
    "        print(\"   *   \")\n",
    "    x=x+1    "
   ]
  },
  {
   "cell_type": "code",
   "execution_count": 4,
   "id": "857979e3",
   "metadata": {},
   "outputs": [
    {
     "name": "stdout",
     "output_type": "stream",
     "text": [
      "*       *\n",
      "*       *\n",
      "*       *\n",
      "*       *\n",
      "*       *\n",
      "*       *\n",
      " *******\n"
     ]
    }
   ],
   "source": [
    "x=0\n",
    "while x<7:\n",
    "    if x==6:\n",
    "        print(\" *******\")\n",
    "    else:\n",
    "        print(\"*       *\")\n",
    "    x=x+1    "
   ]
  },
  {
   "cell_type": "code",
   "execution_count": 5,
   "id": "a3d1672d",
   "metadata": {},
   "outputs": [
    {
     "name": "stdout",
     "output_type": "stream",
     "text": [
      "*               *\n",
      " *             *\n",
      "  *           *\n",
      "   *         *\n",
      "    *       *\n",
      "     *     *\n",
      "      *   *\n",
      "       * *\n",
      "        *\n"
     ]
    }
   ],
   "source": [
    "x=0\n",
    "while x<9:\n",
    "    if x==0:\n",
    "        print(\"*               *\")\n",
    "    elif x==1:\n",
    "        print(\" *             *\")\n",
    "    elif x==2:\n",
    "        print(\"  *           *\")\n",
    "    elif x==3:\n",
    "        print(\"   *         *\")\n",
    "    elif x==4:\n",
    "        print(\"    *       *\")\n",
    "    elif x==5:\n",
    "        print(\"     *     *\")\n",
    "    elif x==6:\n",
    "        print(\"      *   *\")\n",
    "    elif x==7:\n",
    "        print(\"       * *\")\n",
    "    elif x==8: \n",
    "        print(\"        *\")\n",
    "    x=x+1    "
   ]
  },
  {
   "cell_type": "code",
   "execution_count": 6,
   "id": "e6fed518",
   "metadata": {},
   "outputs": [
    {
     "name": "stdout",
     "output_type": "stream",
     "text": [
      "*            *             *\n",
      "*           * *           *\n",
      " *         *   *         *\n",
      "  *       *     *       *\n",
      "   *     *       *     *\n",
      "    *   *         *   *\n",
      "     * *           * *\n",
      "      *             *\n"
     ]
    }
   ],
   "source": [
    "x=0\n",
    "while x<8:\n",
    "    if x==0:\n",
    "        print(\"*            *             *\")\n",
    "    elif x==1:\n",
    "        print(\"*           * *           *\")\n",
    "    elif x==2:\n",
    "        print(\" *         *   *         *\")\n",
    "    elif x==3:\n",
    "        print(\"  *       *     *       *\") \n",
    "    elif x==4:\n",
    "        print(\"   *     *       *     *\")\n",
    "    elif x==5:\n",
    "        print(\"    *   *         *   *\")\n",
    "    elif x==6:\n",
    "        print(\"     * *           * *\")\n",
    "    else:\n",
    "        print(\"      *             *\")\n",
    "    x=x+1    "
   ]
  },
  {
   "cell_type": "code",
   "execution_count": 8,
   "id": "a6d174e2",
   "metadata": {},
   "outputs": [
    {
     "name": "stdout",
     "output_type": "stream",
     "text": [
      "*       *\n",
      " *     * \n",
      "  *   *  \n",
      "   *  *  \n",
      "    *    \n",
      "   *  *  \n",
      "  *    * \n",
      " *      *\n",
      "*        *\n"
     ]
    }
   ],
   "source": [
    "x=0\n",
    "while x<9:\n",
    "    if x==0:\n",
    "        print(\"*       *\")\n",
    "    elif x==1:\n",
    "        print(\" *     * \")\n",
    "    elif x==2:\n",
    "        print(\"  *   *  \")\n",
    "    elif x==3:\n",
    "        print(\"   *  *  \") \n",
    "    elif x==4:\n",
    "        print(\"    *    \")\n",
    "    elif x==5:\n",
    "        print(\"   *  *  \")\n",
    "    elif x==6:\n",
    "        print(\"  *    * \")\n",
    "    elif x==7:\n",
    "        print(\" *      *\")\n",
    "    elif x==8: \n",
    "        print(\"*        *\")\n",
    "    x=x+1    "
   ]
  },
  {
   "cell_type": "code",
   "execution_count": 9,
   "id": "bd58f81a",
   "metadata": {},
   "outputs": [
    {
     "name": "stdout",
     "output_type": "stream",
     "text": [
      "*       *\n",
      " *     * \n",
      "  *   *  \n",
      "   *  *  \n",
      "    *    \n",
      "    *    \n",
      "    *    \n",
      "    *    \n",
      "    *    \n"
     ]
    }
   ],
   "source": [
    "x=0\n",
    "while x<9:\n",
    "    if x==0:\n",
    "        print(\"*       *\")\n",
    "    elif x==1:\n",
    "        print(\" *     * \")\n",
    "    elif x==2:\n",
    "        print(\"  *   *  \")\n",
    "    elif x==3:\n",
    "        print(\"   *  *  \") \n",
    "    elif x==4:\n",
    "        print(\"    *    \")\n",
    "    else:\n",
    "        print(\"    *    \")\n",
    "    x=x+1    "
   ]
  },
  {
   "cell_type": "code",
   "execution_count": 12,
   "id": "65c4f74e",
   "metadata": {},
   "outputs": [
    {
     "name": "stdout",
     "output_type": "stream",
     "text": [
      "******\n",
      "    * \n",
      "   *  \n",
      "  *  \n",
      " *    \n",
      "******\n"
     ]
    }
   ],
   "source": [
    "x=0\n",
    "while x<6:\n",
    "    if x==0 or x==5:\n",
    "        print(\"******\")\n",
    "    elif x==1:\n",
    "        print(\"    * \")\n",
    "    elif x==2:\n",
    "        print(\"   *  \")\n",
    "    elif x==3:\n",
    "        print(\"  *  \")\n",
    "    elif x==4:\n",
    "        print(\" *    \")\n",
    "    elif x==5:\n",
    "        print(\"******\")\n",
    "    x=x+1    "
   ]
  },
  {
   "cell_type": "code",
   "execution_count": null,
   "id": "67171cde",
   "metadata": {},
   "outputs": [],
   "source": []
  }
 ],
 "metadata": {
  "kernelspec": {
   "display_name": "Python 3 (ipykernel)",
   "language": "python",
   "name": "python3"
  },
  "language_info": {
   "codemirror_mode": {
    "name": "ipython",
    "version": 3
   },
   "file_extension": ".py",
   "mimetype": "text/x-python",
   "name": "python",
   "nbconvert_exporter": "python",
   "pygments_lexer": "ipython3",
   "version": "3.10.9"
  }
 },
 "nbformat": 4,
 "nbformat_minor": 5
}
