{
 "cells": [
  {
   "cell_type": "code",
   "execution_count": 4,
   "id": "147a6843",
   "metadata": {},
   "outputs": [
    {
     "name": "stdout",
     "output_type": "stream",
     "text": [
      "  *  \n",
      "*   *\n",
      "*   *\n",
      "* * *\n",
      "*   *\n"
     ]
    }
   ],
   "source": [
    "a=1;b=2;c=3;d=4;e=5\n",
    "if a==1:\n",
    "    print(\"  *  \")\n",
    "if b==2:\n",
    "    print(\"*   *\")\n",
    "if c==3:\n",
    "    print(\"*   *\")\n",
    "if d==4:    \n",
    "    print(\"* * *\")\n",
    "if e==5:\n",
    "    print(\"*   *\")"
   ]
  },
  {
   "cell_type": "code",
   "execution_count": 5,
   "id": "279a1652",
   "metadata": {},
   "outputs": [
    {
     "name": "stdout",
     "output_type": "stream",
     "text": [
      "*****\n",
      "*   *\n",
      "**** \n",
      "*   *\n",
      "*****\n"
     ]
    }
   ],
   "source": [
    "if a==1:\n",
    "    print(\"*****\")\n",
    "if b==2:\n",
    "    print(\"*   *\")\n",
    "if c==3:\n",
    "    print(\"**** \")\n",
    "if d==4:\n",
    "    print(\"*   *\")\n",
    "if e==5:\n",
    "    print(\"*****\")"
   ]
  },
  {
   "cell_type": "code",
   "execution_count": 5,
   "id": "6c18ae38",
   "metadata": {},
   "outputs": [
    {
     "name": "stdout",
     "output_type": "stream",
     "text": [
      " ****\n",
      "*    \n",
      "*    \n",
      "*    \n",
      " ****\n"
     ]
    }
   ],
   "source": [
    "if a==1:\n",
    "    print(\" ****\")\n",
    "if b==2:\n",
    "    print(\"*    \")\n",
    "if c==3:\n",
    "    print(\"*    \")\n",
    "if d==4:\n",
    "    print(\"*    \")\n",
    "if e==5:\n",
    "    print(\" ****\")"
   ]
  },
  {
   "cell_type": "code",
   "execution_count": 6,
   "id": "50d16d9c",
   "metadata": {},
   "outputs": [
    {
     "name": "stdout",
     "output_type": "stream",
     "text": [
      "**** \n",
      "*   *\n",
      "*   *\n",
      "*   *\n",
      "**** \n"
     ]
    }
   ],
   "source": [
    "if a==1:\n",
    "    print(\"**** \")\n",
    "if b==2:\n",
    "    print(\"*   *\") \n",
    "if c==3:\n",
    "    print(\"*   *\")\n",
    "if d==4:\n",
    "    print(\"*   *\")\n",
    "if e==5:\n",
    "    print(\"**** \")"
   ]
  },
  {
   "cell_type": "code",
   "execution_count": 7,
   "id": "d74cbf97",
   "metadata": {},
   "outputs": [
    {
     "name": "stdout",
     "output_type": "stream",
     "text": [
      "*****\n",
      "*    \n",
      "*****\n",
      "*    \n",
      "*****\n"
     ]
    }
   ],
   "source": [
    "if a==1:\n",
    "    print(\"*****\")\n",
    "if b==2:\n",
    "    print(\"*    \")\n",
    "if c==3:\n",
    "    print(\"*****\")\n",
    "if d==4:\n",
    "    print(\"*    \")\n",
    "if e==5:\n",
    "    print(\"*****\")"
   ]
  },
  {
   "cell_type": "code",
   "execution_count": 8,
   "id": "47fd9ac3",
   "metadata": {},
   "outputs": [
    {
     "name": "stdout",
     "output_type": "stream",
     "text": [
      "*****\n",
      "*    \n",
      "*****\n",
      "*    \n",
      "*    \n"
     ]
    }
   ],
   "source": [
    "if a==1:\n",
    "    print(\"*****\")\n",
    "if b==2:\n",
    "    print(\"*    \")\n",
    "if c==3:\n",
    "    print(\"*****\")\n",
    "if d==4:\n",
    "    print(\"*    \")\n",
    "if e==5:\n",
    "    print(\"*    \")"
   ]
  },
  {
   "cell_type": "code",
   "execution_count": 11,
   "id": "8594ab21",
   "metadata": {},
   "outputs": [
    {
     "name": "stdout",
     "output_type": "stream",
     "text": [
      "*******\n",
      "*      \n",
      "*  ****\n",
      "*   * *\n",
      "***** *\n"
     ]
    }
   ],
   "source": [
    "if a==1:\n",
    "    print(\"*******\")\n",
    "if b==2:\n",
    "    print(\"*      \")\n",
    "if c==3:\n",
    "    print(\"*  ****\")\n",
    "if d==4:\n",
    "    print(\"*   * *\")\n",
    "if e==5:\n",
    "    print(\"***** *\")"
   ]
  },
  {
   "cell_type": "code",
   "execution_count": 12,
   "id": "69f29544",
   "metadata": {},
   "outputs": [
    {
     "name": "stdout",
     "output_type": "stream",
     "text": [
      "*     *\n",
      "*     *\n",
      "*******\n",
      "*     *\n",
      "*     *\n"
     ]
    }
   ],
   "source": [
    "if a==1:\n",
    "    print(\"*     *\")\n",
    "if b==2:\n",
    "    print(\"*     *\")\n",
    "if c==3:\n",
    "    print(\"*******\")\n",
    "if d==4:\n",
    "    print(\"*     *\")\n",
    "if e==5:\n",
    "    print(\"*     *\")"
   ]
  },
  {
   "cell_type": "code",
   "execution_count": 13,
   "id": "ada77d32",
   "metadata": {},
   "outputs": [
    {
     "name": "stdout",
     "output_type": "stream",
     "text": [
      "*******\n",
      "   *   \n",
      "   *   \n",
      "   *   \n",
      "*******\n"
     ]
    }
   ],
   "source": [
    "if a==1:\n",
    "    print(\"*******\")\n",
    "if b==2:\n",
    "    print(\"   *   \")\n",
    "if c==3:\n",
    "    print(\"   *   \")\n",
    "if d==4:\n",
    "    print(\"   *   \")\n",
    "if e==5:\n",
    "    print(\"*******\")"
   ]
  },
  {
   "cell_type": "code",
   "execution_count": 5,
   "id": "d7504cbf",
   "metadata": {},
   "outputs": [
    {
     "name": "stdout",
     "output_type": "stream",
     "text": [
      "*********\n",
      "     *   \n",
      "*    *   \n",
      "*    *   \n",
      " ***     \n"
     ]
    }
   ],
   "source": [
    "a=1;b=2;c=3;d=4;e=5\n",
    "\n",
    "if a==1:\n",
    "    print(\"*********\")\n",
    "if b==2:\n",
    "    print(\"     *   \")\n",
    "if c==3:\n",
    "    print(\"*    *   \")\n",
    "if d==4:\n",
    "    print(\"*    *   \")\n",
    "if e==5:\n",
    "    print(\" ***     \")"
   ]
  },
  {
   "cell_type": "code",
   "execution_count": 8,
   "id": "1c17df26",
   "metadata": {},
   "outputs": [
    {
     "name": "stdout",
     "output_type": "stream",
     "text": [
      "*     *\n",
      "*  *   \n",
      "**     \n",
      "*  *   \n",
      "*     *\n"
     ]
    }
   ],
   "source": [
    "a=1;b=2;c=3;d=4;e=5\n",
    "if a==1:\n",
    "    print(\"*     *\")\n",
    "if b==2:\n",
    "    print(\"*  *   \")\n",
    "if c==3:\n",
    "    print(\"**     \")\n",
    "if d==4:\n",
    "    print(\"*  *   \")\n",
    "if e==5:\n",
    "    print(\"*     *\")"
   ]
  },
  {
   "cell_type": "code",
   "execution_count": 9,
   "id": "ce941703",
   "metadata": {},
   "outputs": [
    {
     "name": "stdout",
     "output_type": "stream",
     "text": [
      "*        \n",
      "*        \n",
      "*        \n",
      "*        \n",
      "*********\n"
     ]
    }
   ],
   "source": [
    "if a==1:\n",
    "    print(\"*        \")\n",
    "if b==2:\n",
    "    print(\"*        \")\n",
    "if c==3:\n",
    "    print(\"*        \")\n",
    "if d==4:\n",
    "    print(\"*        \")\n",
    "if e==5:\n",
    "    print(\"*********\")"
   ]
  },
  {
   "cell_type": "code",
   "execution_count": 10,
   "id": "389725d3",
   "metadata": {},
   "outputs": [
    {
     "name": "stdout",
     "output_type": "stream",
     "text": [
      "*            *\n",
      "* *        * *\n",
      "*   *    *   *\n",
      "*     *      *\n",
      "*            *\n"
     ]
    }
   ],
   "source": [
    "if a==1:\n",
    "    print(\"*            *\")\n",
    "if b==2:\n",
    "    print(\"* *        * *\") \n",
    "if c==3:\n",
    "    print(\"*   *    *   *\")\n",
    "if d==4:\n",
    "    print(\"*     *      *\")\n",
    "if e==5:\n",
    "    print(\"*            *\")"
   ]
  },
  {
   "cell_type": "code",
   "execution_count": 11,
   "id": "4ae03814",
   "metadata": {},
   "outputs": [
    {
     "name": "stdout",
     "output_type": "stream",
     "text": [
      "*        *\n",
      "* *      *\n",
      "*   *    *\n",
      "*     *  *\n",
      "*        *\n"
     ]
    }
   ],
   "source": [
    "if a==1:\n",
    "    print(\"*        *\")\n",
    "if b==2:\n",
    "    print(\"* *      *\") \n",
    "if c==3:\n",
    "    print(\"*   *    *\")\n",
    "if d==4:\n",
    "    print(\"*     *  *\")\n",
    "if e==5:\n",
    "    print(\"*        *\")"
   ]
  },
  {
   "cell_type": "code",
   "execution_count": 12,
   "id": "b3aab848",
   "metadata": {},
   "outputs": [
    {
     "name": "stdout",
     "output_type": "stream",
     "text": [
      " **** \n",
      "*    *\n",
      "*    *\n",
      "*    *\n",
      " **** \n"
     ]
    }
   ],
   "source": [
    "if a==1:\n",
    "    print(\" **** \")\n",
    "if b==2:\n",
    "    print(\"*    *\") \n",
    "if c==3:\n",
    "    print(\"*    *\")\n",
    "if d==4:\n",
    "    print(\"*    *\")\n",
    "if e==5:\n",
    "    print(\" **** \")"
   ]
  },
  {
   "cell_type": "code",
   "execution_count": 13,
   "id": "4b6078a2",
   "metadata": {},
   "outputs": [
    {
     "name": "stdout",
     "output_type": "stream",
     "text": [
      " **** \n",
      "*    *\n",
      "***** \n",
      "*     \n",
      "*     \n"
     ]
    }
   ],
   "source": [
    "if a==1:\n",
    "    print(\" **** \")\n",
    "if b==2:\n",
    "    print(\"*    *\") \n",
    "if c==3:\n",
    "    print(\"***** \")\n",
    "if d==4:\n",
    "    print(\"*     \")\n",
    "if e==5:\n",
    "    print(\"*     \")"
   ]
  },
  {
   "cell_type": "code",
   "execution_count": 17,
   "id": "4a316201",
   "metadata": {},
   "outputs": [
    {
     "name": "stdout",
     "output_type": "stream",
     "text": [
      " **** \n",
      "*    *\n",
      "*  * *\n",
      "*    *\n",
      " **** ***\n"
     ]
    }
   ],
   "source": [
    "if a==1:\n",
    "    print(\" **** \")\n",
    "if b==2:\n",
    "    print(\"*    *\") \n",
    "if c==3:\n",
    "    print(\"*  * *\")\n",
    "if d==4:\n",
    "    print(\"*    *\")\n",
    "if e==5:\n",
    "    print(\" **** ***\")"
   ]
  },
  {
   "cell_type": "code",
   "execution_count": 7,
   "id": "c8a04aca",
   "metadata": {},
   "outputs": [
    {
     "name": "stdout",
     "output_type": "stream",
     "text": [
      "***** \n",
      "*    *\n",
      "***** \n",
      "*    *\n",
      "*    *\n"
     ]
    }
   ],
   "source": [
    "a=1;b=2;c=3;d=4;e=5\n",
    "if a==1:\n",
    "    print(\"***** \")\n",
    "if b==2:\n",
    "    print(\"*    *\") \n",
    "if c==3:\n",
    "    print(\"***** \")\n",
    "if d==4:\n",
    "    print(\"*    *\")\n",
    "if e==5:\n",
    "    print(\"*    *\")"
   ]
  },
  {
   "cell_type": "code",
   "execution_count": 21,
   "id": "8922eccb",
   "metadata": {},
   "outputs": [
    {
     "name": "stdout",
     "output_type": "stream",
     "text": [
      " ******\n",
      "*      \n",
      " ******\n",
      "      *\n",
      "****** \n"
     ]
    }
   ],
   "source": [
    "if a==1:\n",
    "    print(\" ******\")\n",
    "if b==2:\n",
    "    print(\"*      \") \n",
    "if c==3:\n",
    "    print(\" ******\")\n",
    "if d==4:\n",
    "    print(\"      *\")\n",
    "if e==5:\n",
    "    print(\"****** \")"
   ]
  },
  {
   "cell_type": "code",
   "execution_count": 22,
   "id": "f9891eda",
   "metadata": {},
   "outputs": [
    {
     "name": "stdout",
     "output_type": "stream",
     "text": [
      "*******\n",
      "   *   \n",
      "   *   \n",
      "   *   \n",
      "   *   \n"
     ]
    }
   ],
   "source": [
    "if a==1:\n",
    "    print(\"*******\")\n",
    "if b==2:\n",
    "    print(\"   *   \")\n",
    "if c==3:\n",
    "    print(\"   *   \")\n",
    "if d==4:\n",
    "    print(\"   *   \")\n",
    "if e==5:\n",
    "    print(\"   *   \")"
   ]
  },
  {
   "cell_type": "code",
   "execution_count": 23,
   "id": "9c7349f9",
   "metadata": {},
   "outputs": [
    {
     "name": "stdout",
     "output_type": "stream",
     "text": [
      "*    *\n",
      "*    *\n",
      "*    *\n",
      "*    *\n",
      " **** \n"
     ]
    }
   ],
   "source": [
    "if a==1:\n",
    "    print(\"*    *\")\n",
    "if b==2:\n",
    "    print(\"*    *\") \n",
    "if c==3:\n",
    "    print(\"*    *\")\n",
    "if d==4:\n",
    "    print(\"*    *\")\n",
    "if e==5:\n",
    "    print(\" **** \")"
   ]
  },
  {
   "cell_type": "code",
   "execution_count": 24,
   "id": "28723a02",
   "metadata": {},
   "outputs": [
    {
     "name": "stdout",
     "output_type": "stream",
     "text": [
      "*        *\n",
      " *      * \n",
      "  *    *  \n",
      "   *  *   \n",
      "    *     \n"
     ]
    }
   ],
   "source": [
    "if a==1:\n",
    "    print(\"*        *\")\n",
    "if b==2:\n",
    "    print(\" *      * \") \n",
    "if c==3:\n",
    "    print(\"  *    *  \")\n",
    "if d==4:\n",
    "    print(\"   *  *   \")\n",
    "if e==5:\n",
    "    print(\"    *     \")"
   ]
  },
  {
   "cell_type": "code",
   "execution_count": 25,
   "id": "310727f9",
   "metadata": {},
   "outputs": [
    {
     "name": "stdout",
     "output_type": "stream",
     "text": [
      "*        *        *\n",
      " *      * *      *\n",
      "  *    *   *    *\n",
      "   *  *     *  *\n",
      "    *        *\n"
     ]
    }
   ],
   "source": [
    "if a==1:\n",
    "    print(\"*        *        *\")\n",
    "if b==2:\n",
    "    print(\" *      * *      *\") \n",
    "if c==3:\n",
    "    print(\"  *    *   *    *\")\n",
    "if d==4:\n",
    "    print(\"   *  *     *  *\")\n",
    "if e==5:\n",
    "    print(\"    *        *\")"
   ]
  },
  {
   "cell_type": "code",
   "execution_count": 27,
   "id": "0a67c982",
   "metadata": {},
   "outputs": [
    {
     "name": "stdout",
     "output_type": "stream",
     "text": [
      "*    *\n",
      " *  * \n",
      "  **  \n",
      " *  *\n",
      "*    *\n"
     ]
    }
   ],
   "source": [
    "if a==1:\n",
    "    print(\"*    *\")\n",
    "if b==2:\n",
    "    print(\" *  * \") \n",
    "if c==3:\n",
    "    print(\"  **  \")\n",
    "if d==4:\n",
    "    print(\" *  *\")\n",
    "if e==5:\n",
    "    print(\"*    *\")"
   ]
  },
  {
   "cell_type": "code",
   "execution_count": 28,
   "id": "3a468086",
   "metadata": {},
   "outputs": [
    {
     "name": "stdout",
     "output_type": "stream",
     "text": [
      "*   *\n",
      " * * \n",
      "  *  \n",
      "  *  \n",
      "  *  \n"
     ]
    }
   ],
   "source": [
    "if a==1:\n",
    "    print(\"*   *\")\n",
    "if b==2:\n",
    "    print(\" * * \") \n",
    "if c==3:\n",
    "    print(\"  *  \")\n",
    "if d==4:\n",
    "    print(\"  *  \")\n",
    "if e==5:\n",
    "    print(\"  *  \")"
   ]
  },
  {
   "cell_type": "code",
   "execution_count": 29,
   "id": "e3413056",
   "metadata": {},
   "outputs": [
    {
     "name": "stdout",
     "output_type": "stream",
     "text": [
      "******\n",
      "    * \n",
      "  *   \n",
      " *    \n",
      "******\n"
     ]
    }
   ],
   "source": [
    "if a==1:\n",
    "    print(\"******\")\n",
    "if b==2:\n",
    "    print(\"    * \") \n",
    "if c==3:\n",
    "    print(\"  *   \")\n",
    "if d==4:\n",
    "    print(\" *    \")\n",
    "if e==5:\n",
    "    print(\"******\")"
   ]
  },
  {
   "cell_type": "code",
   "execution_count": null,
   "id": "4d27a5b2",
   "metadata": {},
   "outputs": [],
   "source": []
  }
 ],
 "metadata": {
  "kernelspec": {
   "display_name": "Python 3 (ipykernel)",
   "language": "python",
   "name": "python3"
  },
  "language_info": {
   "codemirror_mode": {
    "name": "ipython",
    "version": 3
   },
   "file_extension": ".py",
   "mimetype": "text/x-python",
   "name": "python",
   "nbconvert_exporter": "python",
   "pygments_lexer": "ipython3",
   "version": "3.10.9"
  }
 },
 "nbformat": 4,
 "nbformat_minor": 5
}
