{
 "cells": [
  {
   "cell_type": "code",
   "execution_count": 2,
   "id": "18170930",
   "metadata": {},
   "outputs": [
    {
     "name": "stdout",
     "output_type": "stream",
     "text": [
      "type length of the list:9\n",
      "enter the numbers:8\n",
      "enter the numbers:4\n",
      "enter the numbers:5\n",
      "enter the numbers:4\n",
      "enter the numbers:6\n",
      "enter the numbers:8\n",
      "enter the numbers:2\n",
      "enter the numbers:3\n",
      "enter the numbers:2\n"
     ]
    },
    {
     "data": {
      "text/plain": [
       "[2, 3, 4, 5, 6, 8]"
      ]
     },
     "execution_count": 2,
     "metadata": {},
     "output_type": "execute_result"
    }
   ],
   "source": [
    "#remove duplicates and sort list\n",
    "var=[]\n",
    "length=int(input('type length of the list:'))\n",
    "for x in range(0,length):\n",
    "    a=int(input('enter the numbers:'))\n",
    "    var.append(a)\n",
    "for x in var:\n",
    "    if var.count(x)>1:\n",
    "        var.remove(x)\n",
    "    else:\n",
    "        continue\n",
    "var.sort()        \n",
    "var        "
   ]
  },
  {
   "cell_type": "code",
   "execution_count": 3,
   "id": "765e22fa",
   "metadata": {},
   "outputs": [
    {
     "name": "stdout",
     "output_type": "stream",
     "text": [
      "enter number of elements to enter:4\n",
      "enter key:1\n",
      "enter value:a\n",
      "enter key:2\n",
      "enter value:b\n",
      "enter key:3\n",
      "enter value:c\n",
      "enter key:4\n",
      "enter value:d\n",
      "1 a\n",
      "2 b\n",
      "3 c\n",
      "4 d\n"
     ]
    }
   ],
   "source": [
    "#iterate over both keys and values in dictionaries\n",
    "a={}\n",
    "b=int(input('enter number of elements to enter:'))\n",
    "for x in range(0,b):\n",
    "    c=input('enter key:')\n",
    "    d=input('enter value:')\n",
    "    a.update({c:d})\n",
    "for x,y in a.items():\n",
    "    print(x,y)"
   ]
  },
  {
   "cell_type": "code",
   "execution_count": 2,
   "id": "00e5b166",
   "metadata": {},
   "outputs": [
    {
     "name": "stdout",
     "output_type": "stream",
     "text": [
      "enter number of elements to enter:3\n",
      "enter key:stu1\n",
      "enter value:tarun\n",
      "enter key:stu2\n",
      "enter value:manoj\n",
      "enter key:stu3\n",
      "enter value:gephi\n"
     ]
    },
    {
     "data": {
      "text/plain": [
       "['gephi', 'manoj', 'tarun']"
      ]
     },
     "execution_count": 2,
     "metadata": {},
     "output_type": "execute_result"
    }
   ],
   "source": [
    "#dictionary of student names and returns a list of \n",
    "#student names in alphabetical order\n",
    "e={}\n",
    "i=[]\n",
    "f=int(input('enter number of elements to enter:'))\n",
    "for x in range(0,f):\n",
    "    g=input('enter key:')\n",
    "    h=input('enter value:')\n",
    "    e.update({g:h})\n",
    "for x in e.values():\n",
    "    i.append(x)\n",
    "i.sort()\n",
    "i"
   ]
  },
  {
   "cell_type": "code",
   "execution_count": 3,
   "id": "0afd3738",
   "metadata": {},
   "outputs": [
    {
     "name": "stdout",
     "output_type": "stream",
     "text": [
      "enter your series of 1s and 0s:01001\n"
     ]
    },
    {
     "data": {
      "text/plain": [
       "[False, True, False, False, True]"
      ]
     },
     "execution_count": 3,
     "metadata": {},
     "output_type": "execute_result"
    }
   ],
   "source": [
    "#new list of Booleans, from a given number. Iterating \n",
    "#through the number one digit at a time, append True if the digit is 1 and False if it is 0.\n",
    "j=input('enter your series of 1s and 0s:')\n",
    "k=[]\n",
    "for x in j:\n",
    "    if x=='1':\n",
    "        k.append(True)\n",
    "    else:\n",
    "        k.append(False)\n",
    "k  "
   ]
  },
  {
   "cell_type": "code",
   "execution_count": 4,
   "id": "1496f37e",
   "metadata": {},
   "outputs": [
    {
     "name": "stdout",
     "output_type": "stream",
     "text": [
      "enter string:my name is ame\n"
     ]
    },
    {
     "data": {
      "text/plain": [
       "{'m': 3, 'y': 1, 'n': 1, 'a': 2, 'e': 2, 'i': 1, 's': 1}"
      ]
     },
     "execution_count": 4,
     "metadata": {},
     "output_type": "execute_result"
    }
   ],
   "source": [
    "#dictionary where the keys will be the \n",
    "#character and the values will be the occurrence of the character in the string, and it should for any string inputs\n",
    "l=input('enter string:')\n",
    "m={}\n",
    "for x in l:\n",
    "    if x==' ':\n",
    "        continue\n",
    "    else:\n",
    "        m.update({x:l.count(x)})\n",
    "m        "
   ]
  },
  {
   "cell_type": "code",
   "execution_count": 5,
   "id": "f5ccafca",
   "metadata": {},
   "outputs": [
    {
     "name": "stdout",
     "output_type": "stream",
     "text": [
      "enter number of elements to enter:2\n",
      "enter key:sk\n",
      "enter value:24\n",
      "enter key:shiva\n",
      "enter value:50\n"
     ]
    },
    {
     "data": {
      "text/plain": [
       "'shiva'"
      ]
     },
     "execution_count": 5,
     "metadata": {},
     "output_type": "execute_result"
    }
   ],
   "source": [
    "#a dictionary containing the names and ages of a group of people, return the \n",
    "#name of the oldest person\n",
    "o={}\n",
    "s=0\n",
    "p=int(input('enter number of elements to enter:'))\n",
    "for x in range(0,p):\n",
    "    q=input('enter key:')\n",
    "    r=int(input('enter value:'))\n",
    "    o.update({q:r})\n",
    "for x,y in o.items():                                \n",
    "    if y>s:                                    \n",
    "        s=y                                 \n",
    "        t=x                                 \n",
    "t   "
   ]
  },
  {
   "cell_type": "code",
   "execution_count": 6,
   "id": "bc37dfd0",
   "metadata": {},
   "outputs": [
    {
     "name": "stdout",
     "output_type": "stream",
     "text": [
      "enter s to start the game:s\n",
      "you are player 1 enter ur choice rock, paper or scissors:rock\n",
      "you are player 2 enter ur choice rock, paper or scissors:scissor\n",
      "player 2 win\n",
      "press s to play again. To exit press any key other than se\n"
     ]
    }
   ],
   "source": [
    "#rock paper scissors game\n",
    "game=input('enter s to start the game:')\n",
    "while game=='s':\n",
    "    p1=input('you are player 1 enter ur choice rock, paper or scissors:')\n",
    "    p2=input('you are player 2 enter ur choice rock, paper or scissors:')\n",
    "    if p1==p2:\n",
    "        print('Tie')\n",
    "    elif (p1=='rock' and p2=='scissors') or (p1=='paper' and p2=='rock') or (p1=='scissors' and p2=='paper'):\n",
    "        print('player 1  win')\n",
    "    else:\n",
    "        print('player 2 win')\n",
    "    ag=input('press s to play again. To exit press any key other than s')\n",
    "    if ag=='s':\n",
    "        continue\n",
    "    else:\n",
    "        break"
   ]
  },
  {
   "cell_type": "code",
   "execution_count": 8,
   "id": "2836745b",
   "metadata": {},
   "outputs": [
    {
     "name": "stdout",
     "output_type": "stream",
     "text": [
      "enter wallet balance:200\n",
      "enter item if entered all items press s:chips\n",
      "enter price of item:40\n",
      "enter item if entered all items press s:cool drink\n",
      "enter price of item:30\n",
      "enter item if entered all items press s:water bottle\n",
      "enter price of item:20\n",
      "enter item if entered all items press s:shoes\n",
      "enter price of item:500\n",
      "enter item if entered all items press s:s\n"
     ]
    },
    {
     "data": {
      "text/plain": [
       "['chips', 'cool drink', 'water bottle']"
      ]
     },
     "execution_count": 8,
     "metadata": {},
     "output_type": "execute_result"
    }
   ],
   "source": [
    "#a list of items that you can afford in the store with the \n",
    "#money you have in your wallet. Create a dictionary with items as key and price as values\n",
    "wal=int(input('enter wallet balance:'))\n",
    "items=[]\n",
    "z={}\n",
    "while True:\n",
    "    it=input('enter item if entered all items press s:')\n",
    "    if it=='s':\n",
    "        break\n",
    "    else:\n",
    "        pr=int(input('enter price of item:'))\n",
    "        z.update({it:pr})\n",
    "for x,y in z.items():\n",
    "    if y<wal:\n",
    "        items.append(x)\n",
    "        wal=wal-y\n",
    "    else:\n",
    "        break\n",
    "items  "
   ]
  },
  {
   "cell_type": "code",
   "execution_count": 9,
   "id": "b80a0adb",
   "metadata": {},
   "outputs": [
    {
     "name": "stdout",
     "output_type": "stream",
     "text": [
      "length of set 1:3\n",
      "length of set 2:3\n",
      "enter data to add in set 1:1\n",
      "enter data to add in set 1:2\n",
      "enter data to add in set 1:3\n",
      "enter data to add in set 2:4\n",
      "enter data to add in set 2:5\n",
      "enter data to add in set 2:6\n",
      "{'2', '5', '3', '1', '6', '4'}\n"
     ]
    }
   ],
   "source": [
    "\n",
    "#create union of sets\n",
    "s1=set()\n",
    "s2=set()\n",
    "l1=int(input('length of set 1:'))\n",
    "l2=int(input('length of set 2:'))\n",
    "for x in range(0,l1):\n",
    "    s1_=input('enter data to add in set 1:')\n",
    "    s1.add(s1_)\n",
    "for x in range(0,l2):\n",
    "    s2_=input('enter data to add in set 2:')\n",
    "    s2.add(s2_)\n",
    "print(s1.union(s2))    "
   ]
  },
  {
   "cell_type": "code",
   "execution_count": 10,
   "id": "2b5f2854",
   "metadata": {},
   "outputs": [
    {
     "name": "stdout",
     "output_type": "stream",
     "text": [
      "enter length of set:3\n",
      "enter data to add in set:1\n",
      "enter data to add in set:2\n",
      "enter data to add in set:3\n",
      "enter data to check:3\n",
      "value present\n"
     ]
    }
   ],
   "source": [
    "#check if a given value is present in a set or not\n",
    "s3=set()\n",
    "l3=int(input('enter length of set:'))\n",
    "for x in range(0,l3):\n",
    "    s3_=input('enter data to add in set:')\n",
    "    s3.add(s3_)\n",
    "s4=input('enter data to check:')\n",
    "if s4 in s3:\n",
    "    print('value present')\n",
    "        \n",
    "else:\n",
    "    print('value not present')"
   ]
  },
  {
   "cell_type": "code",
   "execution_count": null,
   "id": "6fdfb2f0",
   "metadata": {},
   "outputs": [],
   "source": []
  }
 ],
 "metadata": {
  "kernelspec": {
   "display_name": "Python 3 (ipykernel)",
   "language": "python",
   "name": "python3"
  },
  "language_info": {
   "codemirror_mode": {
    "name": "ipython",
    "version": 3
   },
   "file_extension": ".py",
   "mimetype": "text/x-python",
   "name": "python",
   "nbconvert_exporter": "python",
   "pygments_lexer": "ipython3",
   "version": "3.10.9"
  }
 },
 "nbformat": 4,
 "nbformat_minor": 5
}
