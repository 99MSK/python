{
 "cells": [
  {
   "cell_type": "code",
   "execution_count": 1,
   "id": "7cf64476",
   "metadata": {},
   "outputs": [
    {
     "name": "stdout",
     "output_type": "stream",
     "text": [
      "enter n1: 2\n",
      "enter n2: 3\n",
      "multiplication is 6\n",
      "division is 0.6666666666666666\n"
     ]
    }
   ],
   "source": [
    "#multiplication and division\n",
    "n1= int(input('enter n1: '))\n",
    "n2= int(input('enter n2: '))\n",
    "print('multiplication is', n1*n2)\n",
    "print('division is', n1/n2)"
   ]
  },
  {
   "cell_type": "code",
   "execution_count": 2,
   "id": "3f40af41",
   "metadata": {},
   "outputs": [
    {
     "name": "stdout",
     "output_type": "stream",
     "text": [
      "enter a string: ABCDEFGH\n",
      "A\n",
      "C\n",
      "E\n",
      "G\n"
     ]
    }
   ],
   "source": [
    "#print chars in even index\n",
    "str=input('enter a string: ')\n",
    "for x in range(0,len(str)):\n",
    "    if x%2==0:\n",
    "        print(str[x])"
   ]
  },
  {
   "cell_type": "code",
   "execution_count": 3,
   "id": "99af9d1b",
   "metadata": {},
   "outputs": [
    {
     "name": "stdout",
     "output_type": "stream",
     "text": [
      "enter a string:ABCDEFGH\n",
      "BDFH\n"
     ]
    }
   ],
   "source": [
    "#print chars in odd index\n",
    "str=input('enter a string:')\n",
    "a=0\n",
    "b=''\n",
    "while a<len(str):\n",
    "    if a%2!=0:\n",
    "        b=b+str[a]\n",
    "    a+=1   \n",
    "print(b)    "
   ]
  },
  {
   "cell_type": "code",
   "execution_count": 5,
   "id": "464cb675",
   "metadata": {},
   "outputs": [
    {
     "name": "stdout",
     "output_type": "stream",
     "text": [
      "enter n1: 56\n",
      "enter n2: 34\n",
      "sum is 90\n"
     ]
    }
   ],
   "source": [
    "#if 2 no's are even\n",
    "n3= int(input('enter n1: '))\n",
    "n4= int(input('enter n2: '))\n",
    "if n3%2==0 and n4%2==0:\n",
    "    print('sum is',n3+n4)\n",
    "else:\n",
    "    print('sub is',n3-n4)"
   ]
  },
  {
   "cell_type": "code",
   "execution_count": 6,
   "id": "e3b63a27",
   "metadata": {},
   "outputs": [
    {
     "name": "stdout",
     "output_type": "stream",
     "text": [
      "enter a string:ABCDEFGH\n"
     ]
    },
    {
     "data": {
      "text/plain": [
       "'AbCdEfGh'"
      ]
     },
     "execution_count": 6,
     "metadata": {},
     "output_type": "execute_result"
    }
   ],
   "source": [
    "#even indexed to upper and odd indexed to lower\n",
    "str=input('enter a string:')\n",
    "s=''\n",
    "for x in range(0,len(str)):\n",
    "    if x%2==0:\n",
    "        s=s+ str[x].upper()\n",
    "    else:\n",
    "        s=s+ str[x].lower()\n",
    "s        "
   ]
  },
  {
   "cell_type": "code",
   "execution_count": 7,
   "id": "dbc76b33",
   "metadata": {},
   "outputs": [
    {
     "name": "stdout",
     "output_type": "stream",
     "text": [
      "enter a number:50\n",
      "True\n"
     ]
    }
   ],
   "source": [
    "#no is divisible by 5\n",
    "n5=int(input('enter a number:'))\n",
    "if n5%5==0:\n",
    "    print(True)\n",
    "else:\n",
    "    print(False)"
   ]
  },
  {
   "cell_type": "code",
   "execution_count": 10,
   "id": "20cc210e",
   "metadata": {},
   "outputs": [
    {
     "name": "stdout",
     "output_type": "stream",
     "text": [
      "enter n6: 400\n",
      "enter n7: 2\n",
      "402\n"
     ]
    }
   ],
   "source": [
    "#mul of 2 no's > 1000\n",
    "n6=int(input('enter n6: '))\n",
    "n7= int(input('enter n7: '))\n",
    "if n6*n7>1000:\n",
    "    print(n6*n7)\n",
    "else:\n",
    "    print(n6+n7)"
   ]
  },
  {
   "cell_type": "code",
   "execution_count": null,
   "id": "a5eaa527",
   "metadata": {},
   "outputs": [],
   "source": [
    "#1st, middle and last chars\n",
    "x=input('enter 1st string')\n",
    "y=input('enter 2nd string')\n",
    "newstr=x[0]+y[0]+x[len(y)//2]+y[len(x)//2]+x[-1]+y[-1]\n",
    "\n",
    "newstr"
   ]
  },
  {
   "cell_type": "code",
   "execution_count": 1,
   "id": "35e7e04e",
   "metadata": {},
   "outputs": [
    {
     "name": "stdout",
     "output_type": "stream",
     "text": [
      "enter the word:srinivas\n"
     ]
    },
    {
     "data": {
      "text/plain": [
       "'sriniva@'"
      ]
     },
     "execution_count": 1,
     "metadata": {},
     "output_type": "execute_result"
    }
   ],
   "source": [
    "#change char to @ except 1st occurence\n",
    "a=input('enter the word:')\n",
    "c=a[1:]\n",
    "b=a[0]\n",
    "for x in range(0,len(c)):\n",
    "    if c[x]==a[0]:\n",
    "        b=b+'@'\n",
    "    else:\n",
    "        b+=c[x]\n",
    "b"
   ]
  },
  {
   "cell_type": "code",
   "execution_count": 7,
   "id": "776975c6",
   "metadata": {},
   "outputs": [
    {
     "name": "stdout",
     "output_type": "stream",
     "text": [
      "enter a string:studying\n",
      "studyly\n"
     ]
    }
   ],
   "source": [
    "# add 'ing' at end of string, if already 'ing' add 'ly'\n",
    "a=input('enter a string:')\n",
    "b=''\n",
    "if len(a)<3:\n",
    "    print(a)\n",
    "else:\n",
    "    if a[-3:]=='ing':\n",
    "        b = a[0:len(a)-3] + 'ly'\n",
    "    elif a[-3:]!='ing':\n",
    "        b= a + 'ing'\n",
    "    else:\n",
    "        print(a)\n",
    "print(b) "
   ]
  },
  {
   "cell_type": "code",
   "execution_count": 10,
   "id": "554c7ee0",
   "metadata": {},
   "outputs": [
    {
     "name": "stdout",
     "output_type": "stream",
     "text": [
      "enter 1st Number: 100\n",
      "enter 2nd Number: 200\n",
      "False\n"
     ]
    }
   ],
   "source": [
    "#if any no is 10 or sum=10 print true\n",
    "n8=int(input(\"enter 1st Number: \"))\n",
    "n9=int(input(\"enter 2nd Number: \"))\n",
    "if n8==10 or n9==10 or n8+n9==10:\n",
    "    print(True)\n",
    "else:\n",
    "    print(False)"
   ]
  },
  {
   "cell_type": "code",
   "execution_count": 11,
   "id": "12e4c8cc",
   "metadata": {},
   "outputs": [
    {
     "name": "stdout",
     "output_type": "stream",
     "text": [
      "Give 1st Number: 5\n",
      "Give 2nd Number: 2\n",
      "Give 3rd Number: 8\n",
      "True\n"
     ]
    }
   ],
   "source": [
    "#a*b>c print true\n",
    "n=int(input(\"Give 1st Number: \"))\n",
    "nu=int(input(\"Give 2nd Number: \"))\n",
    "num=int(input(\"Give 3rd Number: \"))\n",
    "if n*nu>num:\n",
    "    print(True)\n",
    "else:\n",
    "    print(False)"
   ]
  },
  {
   "cell_type": "code",
   "execution_count": 12,
   "id": "209895d1",
   "metadata": {},
   "outputs": [
    {
     "name": "stdout",
     "output_type": "stream",
     "text": [
      "enter 1st string:ABC\n",
      "enter 2nd string:abc\n",
      "True\n"
     ]
    }
   ],
   "source": [
    "# both strings have equal no of chars\n",
    "e=input('enter 1st string:')\n",
    "f=input('enter 2nd string:')\n",
    "if len(e)==len(f):\n",
    "    print(True)\n",
    "else:\n",
    "    print(False)"
   ]
  },
  {
   "cell_type": "code",
   "execution_count": null,
   "id": "3faae7a9",
   "metadata": {},
   "outputs": [],
   "source": []
  }
 ],
 "metadata": {
  "kernelspec": {
   "display_name": "Python 3 (ipykernel)",
   "language": "python",
   "name": "python3"
  },
  "language_info": {
   "codemirror_mode": {
    "name": "ipython",
    "version": 3
   },
   "file_extension": ".py",
   "mimetype": "text/x-python",
   "name": "python",
   "nbconvert_exporter": "python",
   "pygments_lexer": "ipython3",
   "version": "3.10.9"
  }
 },
 "nbformat": 4,
 "nbformat_minor": 5
}
