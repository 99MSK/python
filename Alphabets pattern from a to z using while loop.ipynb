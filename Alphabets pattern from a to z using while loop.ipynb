{
 "cells": [
  {
   "cell_type": "code",
   "execution_count": 3,
   "id": "48767d7e",
   "metadata": {},
   "outputs": [
    {
     "name": "stdout",
     "output_type": "stream",
     "text": [
      " **** \n",
      "*    *\n",
      "*    *\n",
      "*    *\n",
      "*    *\n",
      " **** **\n"
     ]
    }
   ],
   "source": [
    "x=0\n",
    "while x<6:\n",
    "    if x==0:\n",
    "        print(\" **** \")\n",
    "    elif x==5:\n",
    "        print(\" **** **\")\n",
    "    else:\n",
    "        print(\"*    *\")\n",
    "    x=x+1    "
   ]
  },
  {
   "cell_type": "code",
   "execution_count": 1,
   "id": "958fa3a9",
   "metadata": {},
   "outputs": [
    {
     "name": "stdout",
     "output_type": "stream",
     "text": [
      "*\n",
      "*\n",
      "*\n",
      "***** \n",
      "*    *\n",
      "*    *\n",
      "*    *\n",
      "***** \n"
     ]
    }
   ],
   "source": [
    "x=0\n",
    "while x<8:\n",
    "    if x==3 or x==7:\n",
    "        print(\"***** \")\n",
    "    elif x==4 or x==5 or x==6:\n",
    "        print(\"*    *\")\n",
    "    else:\n",
    "        print(\"*\")\n",
    "    x=x+1    "
   ]
  },
  {
   "cell_type": "code",
   "execution_count": 2,
   "id": "1dc593f5",
   "metadata": {},
   "outputs": [
    {
     "name": "stdout",
     "output_type": "stream",
     "text": [
      " *****\n",
      "*     \n",
      "*     \n",
      "*     \n",
      "*     \n",
      " *****\n"
     ]
    }
   ],
   "source": [
    "x=0\n",
    "while x<6:\n",
    "    if x==0 or x==5:\n",
    "        print(\" *****\")\n",
    "    else:\n",
    "        print(\"*     \")\n",
    "    x=x+1    "
   ]
  },
  {
   "cell_type": "code",
   "execution_count": 5,
   "id": "43138f0c",
   "metadata": {},
   "outputs": [
    {
     "name": "stdout",
     "output_type": "stream",
     "text": [
      "     *\n",
      "     *\n",
      "     *\n",
      " *****\n",
      "*    *\n",
      "*    *\n",
      "*    *\n",
      " *****\n"
     ]
    }
   ],
   "source": [
    "x=0\n",
    "while x<8:\n",
    "    if x==3 or x==7:\n",
    "        print(\" *****\")\n",
    "    elif x==4 or x==5 or x==6:\n",
    "        print(\"*    *\")\n",
    "    else:\n",
    "        print(\"     *\")\n",
    "    x=x+1    "
   ]
  },
  {
   "cell_type": "code",
   "execution_count": 11,
   "id": "c79a55ba",
   "metadata": {},
   "outputs": [
    {
     "name": "stdout",
     "output_type": "stream",
     "text": [
      " ***** \n",
      "*     *\n",
      "****** \n",
      "*      \n",
      "*      \n",
      " ******\n"
     ]
    }
   ],
   "source": [
    "x=0\n",
    "while x<6:\n",
    "    if x==0:\n",
    "        print(\" ***** \")\n",
    "    elif x==1:\n",
    "        print(\"*     *\")\n",
    "    elif x==2:\n",
    "        print(\"****** \")\n",
    "    elif x==5:\n",
    "        print(\" ******\")\n",
    "    else:\n",
    "        print(\"*      \")\n",
    "    x=x+1    "
   ]
  },
  {
   "cell_type": "code",
   "execution_count": 12,
   "id": "4da39980",
   "metadata": {},
   "outputs": [
    {
     "name": "stdout",
     "output_type": "stream",
     "text": [
      "   **\n",
      "  *  \n",
      "  *  \n",
      "*****\n",
      "  *  \n",
      "  *  \n",
      "  *  \n",
      "  *  \n"
     ]
    }
   ],
   "source": [
    "x=0\n",
    "while x<8:\n",
    "    if x==0:\n",
    "        print(\"   **\")\n",
    "    elif x==3:\n",
    "        print(\"*****\")\n",
    "    else:\n",
    "        print(\"  *  \")\n",
    "    x=x+1    "
   ]
  },
  {
   "cell_type": "code",
   "execution_count": 16,
   "id": "3e27d494",
   "metadata": {},
   "outputs": [
    {
     "name": "stdout",
     "output_type": "stream",
     "text": [
      " **** \n",
      "*    *\n",
      "*    *\n",
      "******\n",
      "     *\n",
      "     *\n",
      "*    *\n",
      " **** \n"
     ]
    }
   ],
   "source": [
    "x=0\n",
    "while x<8:\n",
    "    if x==0 or x==7:\n",
    "        print(\" **** \")\n",
    "    elif x==3:\n",
    "        print(\"******\")\n",
    "    elif x==1 or x==2 or x==6:\n",
    "        print(\"*    *\")\n",
    "    else:\n",
    "        print(\"     *\")\n",
    "    x=x+1   "
   ]
  },
  {
   "cell_type": "code",
   "execution_count": 18,
   "id": "2155bc9c",
   "metadata": {},
   "outputs": [
    {
     "name": "stdout",
     "output_type": "stream",
     "text": [
      "*     \n",
      "*     \n",
      "*     \n",
      "*     \n",
      "***** \n",
      "*    *\n",
      "*    *\n",
      "*    *\n"
     ]
    }
   ],
   "source": [
    "x=0\n",
    "while x<8:\n",
    "    if x==4:\n",
    "        print(\"***** \")\n",
    "    elif x==5 or x==6 or x==7:\n",
    "        print(\"*    *\")\n",
    "    else:\n",
    "        print(\"*     \")\n",
    "    x=x+1    "
   ]
  },
  {
   "cell_type": "code",
   "execution_count": 19,
   "id": "28abded3",
   "metadata": {},
   "outputs": [
    {
     "name": "stdout",
     "output_type": "stream",
     "text": [
      " * \n",
      "   \n",
      " * \n",
      " * \n",
      " * \n",
      " * \n"
     ]
    }
   ],
   "source": [
    "x=0\n",
    "while x<6:\n",
    "    if x==1:\n",
    "        print(\"   \")\n",
    "    else:\n",
    "        print(\" * \")\n",
    "    x=x+1    "
   ]
  },
  {
   "cell_type": "code",
   "execution_count": 20,
   "id": "708e3c50",
   "metadata": {},
   "outputs": [
    {
     "name": "stdout",
     "output_type": "stream",
     "text": [
      "   *  \n",
      "      \n",
      "   *  \n",
      "*  *  \n",
      "*  *  \n",
      " **   \n"
     ]
    }
   ],
   "source": [
    "x=0\n",
    "while x<6:\n",
    "    if x==1:\n",
    "        print(\"      \")\n",
    "    elif x==5:\n",
    "        print(\" **   \")\n",
    "    elif x==3 or x==4:\n",
    "        print(\"*  *  \")\n",
    "    else:\n",
    "        print(\"   *  \")\n",
    "    x=x+1    "
   ]
  },
  {
   "cell_type": "code",
   "execution_count": 1,
   "id": "dacb9e4d",
   "metadata": {},
   "outputs": [
    {
     "name": "stdout",
     "output_type": "stream",
     "text": [
      "*    \n",
      "*    \n",
      "*    \n",
      "*   *\n",
      "*  * \n",
      "* *  \n",
      "**   \n",
      "*    \n",
      "**   \n",
      "* *  \n",
      "*  * \n",
      "*   *\n"
     ]
    }
   ],
   "source": [
    "x=0\n",
    "while x<12:\n",
    "    if x==6 or x==8:\n",
    "        print(\"**   \")\n",
    "    elif x==5 or x==9:\n",
    "        print(\"* *  \")\n",
    "    elif x==4 or x==10:\n",
    "        print(\"*  * \")\n",
    "    elif x==3 or x==11:\n",
    "        print(\"*   *\")\n",
    "    else:\n",
    "        print(\"*    \")\n",
    "    x=x+1    "
   ]
  },
  {
   "cell_type": "code",
   "execution_count": 1,
   "id": "fa68588d",
   "metadata": {},
   "outputs": [
    {
     "name": "stdout",
     "output_type": "stream",
     "text": [
      "   *   \n",
      "   *   \n",
      "   *   \n",
      "   *   \n",
      "   *   \n",
      "   *   \n"
     ]
    }
   ],
   "source": [
    "x=0\n",
    "while x<6:\n",
    "    print(\"   *   \")\n",
    "    x=x+1    "
   ]
  },
  {
   "cell_type": "code",
   "execution_count": 4,
   "id": "67045dba",
   "metadata": {},
   "outputs": [
    {
     "name": "stdout",
     "output_type": "stream",
     "text": [
      "* *** ***\n",
      " *   *   *\n",
      " *   *   *\n",
      " *   *   *\n"
     ]
    }
   ],
   "source": [
    "x=0\n",
    "while x<4:\n",
    "    if x==0:\n",
    "        print(\"* *** ***\")\n",
    "    else:\n",
    "        print(\" *   *   *\")\n",
    "    x=x+1    "
   ]
  },
  {
   "cell_type": "code",
   "execution_count": 5,
   "id": "084741ae",
   "metadata": {},
   "outputs": [
    {
     "name": "stdout",
     "output_type": "stream",
     "text": [
      "* *** \n",
      " *   * \n",
      " *   * \n",
      " *   * \n"
     ]
    }
   ],
   "source": [
    "x=0\n",
    "while x<4:\n",
    "    if x==0:\n",
    "        print(\"* *** \")\n",
    "    else:\n",
    "        print(\" *   * \")\n",
    "    x=x+1    "
   ]
  },
  {
   "cell_type": "code",
   "execution_count": 6,
   "id": "fd27f12c",
   "metadata": {},
   "outputs": [
    {
     "name": "stdout",
     "output_type": "stream",
     "text": [
      " *** \n",
      "*   *\n",
      "*   *\n",
      "*   *\n",
      " *** \n"
     ]
    }
   ],
   "source": [
    "x=0\n",
    "while x<5:\n",
    "    if x==0 or x==4:\n",
    "        print(\" *** \")\n",
    "    else:\n",
    "        print(\"*   *\")\n",
    "    x=x+1    "
   ]
  },
  {
   "cell_type": "code",
   "execution_count": 7,
   "id": "d15b7f0d",
   "metadata": {},
   "outputs": [
    {
     "name": "stdout",
     "output_type": "stream",
     "text": [
      "**** \n",
      "*   *\n",
      "*   *\n",
      "**** \n",
      "*    \n",
      "*    \n",
      "*    \n"
     ]
    }
   ],
   "source": [
    "x=0\n",
    "while x<7:\n",
    "    if x==0 or x==3:\n",
    "        print(\"**** \")\n",
    "    elif x==1 or x==2:\n",
    "        print(\"*   *\")\n",
    "    else:\n",
    "        print(\"*    \")\n",
    "    x=x+1    "
   ]
  },
  {
   "cell_type": "code",
   "execution_count": 8,
   "id": "db59a5f9",
   "metadata": {},
   "outputs": [
    {
     "name": "stdout",
     "output_type": "stream",
     "text": [
      " ****\n",
      "*   *\n",
      "*   *\n",
      " ****\n",
      "    *\n",
      "    *\n",
      "    *\n"
     ]
    }
   ],
   "source": [
    "x=0\n",
    "while x<7:\n",
    "    if x==0 or x==3:\n",
    "        print(\" ****\")\n",
    "    elif x==1 or x==2:\n",
    "        print(\"*   *\")\n",
    "    else:\n",
    "        print(\"    *\")\n",
    "    x=x+1    "
   ]
  },
  {
   "cell_type": "code",
   "execution_count": 3,
   "id": "3b26bec2",
   "metadata": {},
   "outputs": [
    {
     "name": "stdout",
     "output_type": "stream",
     "text": [
      "* *** \n",
      " *    \n",
      " *    \n",
      " *    \n"
     ]
    }
   ],
   "source": [
    "x=0\n",
    "while x<4:\n",
    "    if x==0:\n",
    "        print(\"* *** \")\n",
    "    else:\n",
    "        print(\" *    \")\n",
    "    x=x+1    "
   ]
  },
  {
   "cell_type": "code",
   "execution_count": 10,
   "id": "dc6696f7",
   "metadata": {},
   "outputs": [
    {
     "name": "stdout",
     "output_type": "stream",
     "text": [
      " *****\n",
      "*     \n",
      "*     \n",
      "*     \n",
      " **** \n",
      "     *\n",
      "     *\n",
      "     *\n",
      "***** \n"
     ]
    }
   ],
   "source": [
    "x=0\n",
    "while x<9:\n",
    "    if x==0 :\n",
    "        print(\" *****\")\n",
    "    elif x==1 or x==2 or x==3:\n",
    "        print(\"*     \")\n",
    "    elif x==4:\n",
    "        print(\" **** \")\n",
    "    elif x==5 or x==6 or x==7:\n",
    "        print(\"     *\")\n",
    "    else:\n",
    "        print(\"***** \")\n",
    "    x=x+1    "
   ]
  },
  {
   "cell_type": "code",
   "execution_count": 13,
   "id": "9cb3567e",
   "metadata": {},
   "outputs": [
    {
     "name": "stdout",
     "output_type": "stream",
     "text": [
      "   *   \n",
      "   *   \n",
      "  **** \n",
      "   *   \n",
      "   *   \n",
      "   **  \n"
     ]
    }
   ],
   "source": [
    "x=0\n",
    "while x<6:\n",
    "    if x==2:\n",
    "        print(\"  **** \")\n",
    "    elif x==5:\n",
    "        print(\"   **  \")\n",
    "    else:\n",
    "        print(\"   *   \")\n",
    "    x=x+1    "
   ]
  },
  {
   "cell_type": "code",
   "execution_count": 14,
   "id": "3c4d9301",
   "metadata": {},
   "outputs": [
    {
     "name": "stdout",
     "output_type": "stream",
     "text": [
      "*       *\n",
      "*       *\n",
      "*       *\n",
      "*       *\n",
      "*       *\n",
      "*       *\n",
      " ******* **\n"
     ]
    }
   ],
   "source": [
    "x=0\n",
    "while x<7:\n",
    "    if x==6:\n",
    "        print(\" ******* **\")\n",
    "    else:\n",
    "        print(\"*       *\")\n",
    "    x=x+1    "
   ]
  },
  {
   "cell_type": "code",
   "execution_count": 8,
   "id": "056de054",
   "metadata": {},
   "outputs": [
    {
     "name": "stdout",
     "output_type": "stream",
     "text": [
      "*       *\n",
      " *     * \n",
      "  *   *  \n",
      "   * *   \n",
      "    *    \n"
     ]
    }
   ],
   "source": [
    "x=0\n",
    "while x<5:\n",
    "    if x==0:\n",
    "        print(\"*       *\")    \n",
    "    elif x==1:\n",
    "        print(\" *     * \")\n",
    "    elif x==2:\n",
    "        print(\"  *   *  \")\n",
    "    elif x==3:\n",
    "        print(\"   * *   \")\n",
    "    else:\n",
    "        print(\"    *    \")\n",
    "    x=x+1    "
   ]
  },
  {
   "cell_type": "code",
   "execution_count": 10,
   "id": "2de275ee",
   "metadata": {},
   "outputs": [
    {
     "name": "stdout",
     "output_type": "stream",
     "text": [
      "*         *         *\n",
      " *       * *       *\n",
      "  *     *   *     *\n",
      "   *   *     *   *\n",
      "    * *       * *\n",
      "     *         *\n"
     ]
    }
   ],
   "source": [
    "x=0\n",
    "while x<6:\n",
    "    if x==0:\n",
    "        print(\"*         *         *\")\n",
    "    elif x==1:\n",
    "        print(\" *       * *       *\")\n",
    "    elif x==2:\n",
    "        print(\"  *     *   *     *\")\n",
    "    elif x==3:\n",
    "        print(\"   *   *     *   *\") \n",
    "    elif x==4:\n",
    "        print(\"    * *       * *\")\n",
    "    else:\n",
    "        print(\"     *         *\")\n",
    "    x=x+1    "
   ]
  },
  {
   "cell_type": "code",
   "execution_count": 17,
   "id": "58138c3e",
   "metadata": {},
   "outputs": [
    {
     "name": "stdout",
     "output_type": "stream",
     "text": [
      "*       *\n",
      " *     * \n",
      "  *   *  \n",
      "   *  *  \n",
      "    *    \n",
      "   *  *  \n",
      "  *    * \n",
      " *      *\n",
      "*        *\n"
     ]
    }
   ],
   "source": [
    "x=0\n",
    "while x<9:\n",
    "    if x==0:\n",
    "        print(\"*       *\")\n",
    "    elif x==1:\n",
    "        print(\" *     * \")\n",
    "    elif x==2:\n",
    "        print(\"  *   *  \")\n",
    "    elif x==3:\n",
    "        print(\"   *  *  \") \n",
    "    elif x==4:\n",
    "        print(\"    *    \")\n",
    "    elif x==5:\n",
    "        print(\"   *  *  \")\n",
    "    elif x==6:\n",
    "        print(\"  *    * \")\n",
    "    elif x==7:\n",
    "        print(\" *      *\")\n",
    "    elif x==8: \n",
    "        print(\"*        *\")\n",
    "    x=x+1    "
   ]
  },
  {
   "cell_type": "code",
   "execution_count": 11,
   "id": "e31f37bc",
   "metadata": {},
   "outputs": [
    {
     "name": "stdout",
     "output_type": "stream",
     "text": [
      "*    *\n",
      "*    *\n",
      "*    *\n",
      "*    *\n",
      " **** \n",
      "     *\n",
      "     *\n",
      "*    *\n",
      " **** \n"
     ]
    }
   ],
   "source": [
    "x=0\n",
    "while x<9:\n",
    "    if x==4 or x==8:\n",
    "        print(\" **** \")\n",
    "    elif x==5 or x==6:\n",
    "        print(\"     *\")\n",
    "    else:\n",
    "        print(\"*    *\")\n",
    "    x=x+1    "
   ]
  },
  {
   "cell_type": "code",
   "execution_count": 21,
   "id": "606e6241",
   "metadata": {},
   "outputs": [
    {
     "name": "stdout",
     "output_type": "stream",
     "text": [
      "******\n",
      "    * \n",
      "   *  \n",
      "  *  \n",
      " *    \n",
      "******\n"
     ]
    }
   ],
   "source": [
    "x=0\n",
    "while x<6:\n",
    "    if x==0 or x==5:\n",
    "        print(\"******\")\n",
    "    elif x==1:\n",
    "        print(\"    * \")\n",
    "    elif x==2:\n",
    "        print(\"   *  \")\n",
    "    elif x==3:\n",
    "        print(\"  *  \")\n",
    "    elif x==4:\n",
    "        print(\" *    \")\n",
    "    elif x==5:\n",
    "        print(\"******\")\n",
    "    x=x+1    "
   ]
  },
  {
   "cell_type": "code",
   "execution_count": null,
   "id": "5b27dcc6",
   "metadata": {},
   "outputs": [],
   "source": []
  }
 ],
 "metadata": {
  "kernelspec": {
   "display_name": "Python 3 (ipykernel)",
   "language": "python",
   "name": "python3"
  },
  "language_info": {
   "codemirror_mode": {
    "name": "ipython",
    "version": 3
   },
   "file_extension": ".py",
   "mimetype": "text/x-python",
   "name": "python",
   "nbconvert_exporter": "python",
   "pygments_lexer": "ipython3",
   "version": "3.10.9"
  }
 },
 "nbformat": 4,
 "nbformat_minor": 5
}
